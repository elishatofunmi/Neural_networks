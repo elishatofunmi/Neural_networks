{
 "cells": [
  {
   "cell_type": "code",
   "execution_count": 1,
   "metadata": {},
   "outputs": [
    {
     "name": "stderr",
     "output_type": "stream",
     "text": [
      "Using TensorFlow backend.\n"
     ]
    }
   ],
   "source": [
    "import numpy as np\n",
    "import scipy as sp\n",
    "import sklearn as sk\n",
    "import pandas as pd\n",
    "import matplotlib.pyplot as plt\n",
    "import warnings\n",
    "warnings.filterwarnings('ignore')\n",
    "import tensorflow as tf\n",
    "import keras"
   ]
  },
  {
   "cell_type": "code",
   "execution_count": 2,
   "metadata": {
    "collapsed": true
   },
   "outputs": [],
   "source": [
    "read_train = pd.read_csv('UnScaled Data_train.csv')\n",
    "read_test = pd.read_csv('UnScaled Data_test.csv')"
   ]
  },
  {
   "cell_type": "code",
   "execution_count": 3,
   "metadata": {},
   "outputs": [
    {
     "data": {
      "text/html": [
       "<div>\n",
       "<style scoped>\n",
       "    .dataframe tbody tr th:only-of-type {\n",
       "        vertical-align: middle;\n",
       "    }\n",
       "\n",
       "    .dataframe tbody tr th {\n",
       "        vertical-align: top;\n",
       "    }\n",
       "\n",
       "    .dataframe thead th {\n",
       "        text-align: right;\n",
       "    }\n",
       "</style>\n",
       "<table border=\"1\" class=\"dataframe\">\n",
       "  <thead>\n",
       "    <tr style=\"text-align: right;\">\n",
       "      <th></th>\n",
       "      <th>Unnamed: 0</th>\n",
       "      <th>year</th>\n",
       "      <th>location_type</th>\n",
       "      <th>cellphone_access</th>\n",
       "      <th>household_size</th>\n",
       "      <th>age_of_respondent</th>\n",
       "      <th>marital_status</th>\n",
       "      <th>education_level</th>\n",
       "      <th>job_type</th>\n",
       "      <th>country_Kenya</th>\n",
       "      <th>...</th>\n",
       "      <th>country_Tanzania</th>\n",
       "      <th>country_Uganda</th>\n",
       "      <th>gender_of_respondent_Female</th>\n",
       "      <th>gender_of_respondent_Male</th>\n",
       "      <th>relationship_with_head_Child</th>\n",
       "      <th>relationship_with_head_Head of Household</th>\n",
       "      <th>relationship_with_head_Other non-relatives</th>\n",
       "      <th>relationship_with_head_Other relative</th>\n",
       "      <th>relationship_with_head_Parent</th>\n",
       "      <th>relationship_with_head_Spouse</th>\n",
       "    </tr>\n",
       "  </thead>\n",
       "  <tbody>\n",
       "    <tr>\n",
       "      <th>0</th>\n",
       "      <td>0</td>\n",
       "      <td>2</td>\n",
       "      <td>0</td>\n",
       "      <td>1</td>\n",
       "      <td>2</td>\n",
       "      <td>8</td>\n",
       "      <td>2</td>\n",
       "      <td>3</td>\n",
       "      <td>9</td>\n",
       "      <td>1</td>\n",
       "      <td>...</td>\n",
       "      <td>0</td>\n",
       "      <td>0</td>\n",
       "      <td>1</td>\n",
       "      <td>0</td>\n",
       "      <td>0</td>\n",
       "      <td>0</td>\n",
       "      <td>0</td>\n",
       "      <td>0</td>\n",
       "      <td>0</td>\n",
       "      <td>1</td>\n",
       "    </tr>\n",
       "    <tr>\n",
       "      <th>1</th>\n",
       "      <td>1</td>\n",
       "      <td>2</td>\n",
       "      <td>0</td>\n",
       "      <td>0</td>\n",
       "      <td>4</td>\n",
       "      <td>54</td>\n",
       "      <td>4</td>\n",
       "      <td>0</td>\n",
       "      <td>4</td>\n",
       "      <td>1</td>\n",
       "      <td>...</td>\n",
       "      <td>0</td>\n",
       "      <td>0</td>\n",
       "      <td>1</td>\n",
       "      <td>0</td>\n",
       "      <td>0</td>\n",
       "      <td>1</td>\n",
       "      <td>0</td>\n",
       "      <td>0</td>\n",
       "      <td>0</td>\n",
       "      <td>0</td>\n",
       "    </tr>\n",
       "    <tr>\n",
       "      <th>2</th>\n",
       "      <td>2</td>\n",
       "      <td>2</td>\n",
       "      <td>1</td>\n",
       "      <td>1</td>\n",
       "      <td>4</td>\n",
       "      <td>10</td>\n",
       "      <td>3</td>\n",
       "      <td>5</td>\n",
       "      <td>9</td>\n",
       "      <td>1</td>\n",
       "      <td>...</td>\n",
       "      <td>0</td>\n",
       "      <td>0</td>\n",
       "      <td>0</td>\n",
       "      <td>1</td>\n",
       "      <td>0</td>\n",
       "      <td>0</td>\n",
       "      <td>0</td>\n",
       "      <td>1</td>\n",
       "      <td>0</td>\n",
       "      <td>0</td>\n",
       "    </tr>\n",
       "    <tr>\n",
       "      <th>3</th>\n",
       "      <td>3</td>\n",
       "      <td>2</td>\n",
       "      <td>0</td>\n",
       "      <td>1</td>\n",
       "      <td>4</td>\n",
       "      <td>18</td>\n",
       "      <td>2</td>\n",
       "      <td>2</td>\n",
       "      <td>3</td>\n",
       "      <td>1</td>\n",
       "      <td>...</td>\n",
       "      <td>0</td>\n",
       "      <td>0</td>\n",
       "      <td>1</td>\n",
       "      <td>0</td>\n",
       "      <td>0</td>\n",
       "      <td>1</td>\n",
       "      <td>0</td>\n",
       "      <td>0</td>\n",
       "      <td>0</td>\n",
       "      <td>0</td>\n",
       "    </tr>\n",
       "    <tr>\n",
       "      <th>4</th>\n",
       "      <td>4</td>\n",
       "      <td>2</td>\n",
       "      <td>1</td>\n",
       "      <td>0</td>\n",
       "      <td>7</td>\n",
       "      <td>10</td>\n",
       "      <td>3</td>\n",
       "      <td>2</td>\n",
       "      <td>5</td>\n",
       "      <td>1</td>\n",
       "      <td>...</td>\n",
       "      <td>0</td>\n",
       "      <td>0</td>\n",
       "      <td>0</td>\n",
       "      <td>1</td>\n",
       "      <td>1</td>\n",
       "      <td>0</td>\n",
       "      <td>0</td>\n",
       "      <td>0</td>\n",
       "      <td>0</td>\n",
       "      <td>0</td>\n",
       "    </tr>\n",
       "  </tbody>\n",
       "</table>\n",
       "<p>5 rows × 21 columns</p>\n",
       "</div>"
      ],
      "text/plain": [
       "   Unnamed: 0  year  location_type  cellphone_access  household_size  \\\n",
       "0           0     2              0                 1               2   \n",
       "1           1     2              0                 0               4   \n",
       "2           2     2              1                 1               4   \n",
       "3           3     2              0                 1               4   \n",
       "4           4     2              1                 0               7   \n",
       "\n",
       "   age_of_respondent  marital_status  education_level  job_type  \\\n",
       "0                  8               2                3         9   \n",
       "1                 54               4                0         4   \n",
       "2                 10               3                5         9   \n",
       "3                 18               2                2         3   \n",
       "4                 10               3                2         5   \n",
       "\n",
       "   country_Kenya  ...  country_Tanzania  country_Uganda  \\\n",
       "0              1  ...                 0               0   \n",
       "1              1  ...                 0               0   \n",
       "2              1  ...                 0               0   \n",
       "3              1  ...                 0               0   \n",
       "4              1  ...                 0               0   \n",
       "\n",
       "   gender_of_respondent_Female  gender_of_respondent_Male  \\\n",
       "0                            1                          0   \n",
       "1                            1                          0   \n",
       "2                            0                          1   \n",
       "3                            1                          0   \n",
       "4                            0                          1   \n",
       "\n",
       "   relationship_with_head_Child  relationship_with_head_Head of Household  \\\n",
       "0                             0                                         0   \n",
       "1                             0                                         1   \n",
       "2                             0                                         0   \n",
       "3                             0                                         1   \n",
       "4                             1                                         0   \n",
       "\n",
       "   relationship_with_head_Other non-relatives  \\\n",
       "0                                           0   \n",
       "1                                           0   \n",
       "2                                           0   \n",
       "3                                           0   \n",
       "4                                           0   \n",
       "\n",
       "   relationship_with_head_Other relative  relationship_with_head_Parent  \\\n",
       "0                                      0                              0   \n",
       "1                                      0                              0   \n",
       "2                                      1                              0   \n",
       "3                                      0                              0   \n",
       "4                                      0                              0   \n",
       "\n",
       "   relationship_with_head_Spouse  \n",
       "0                              1  \n",
       "1                              0  \n",
       "2                              0  \n",
       "3                              0  \n",
       "4                              0  \n",
       "\n",
       "[5 rows x 21 columns]"
      ]
     },
     "execution_count": 3,
     "metadata": {},
     "output_type": "execute_result"
    }
   ],
   "source": [
    "read_train.head()"
   ]
  },
  {
   "cell_type": "code",
   "execution_count": 4,
   "metadata": {
    "collapsed": true
   },
   "outputs": [],
   "source": [
    "read_train = read_train.drop('Unnamed: 0', axis = 1)"
   ]
  },
  {
   "cell_type": "code",
   "execution_count": 5,
   "metadata": {
    "scrolled": true
   },
   "outputs": [
    {
     "data": {
      "text/plain": [
       "(23524, 20)"
      ]
     },
     "execution_count": 5,
     "metadata": {},
     "output_type": "execute_result"
    }
   ],
   "source": [
    "read_train.shape"
   ]
  },
  {
   "cell_type": "code",
   "execution_count": 6,
   "metadata": {},
   "outputs": [
    {
     "data": {
      "text/plain": [
       "(10086, 20)"
      ]
     },
     "execution_count": 6,
     "metadata": {},
     "output_type": "execute_result"
    }
   ],
   "source": [
    "read_test = read_test.drop('Unnamed: 0', axis = 1)\n",
    "read_test.shape"
   ]
  },
  {
   "cell_type": "code",
   "execution_count": 23,
   "metadata": {},
   "outputs": [
    {
     "data": {
      "text/plain": [
       "(23524,)"
      ]
     },
     "execution_count": 23,
     "metadata": {},
     "output_type": "execute_result"
    }
   ],
   "source": [
    "target = pd.read_csv('train_target.csv')\n",
    "target = target.drop('0', axis = 1)\n",
    "update_target= [1]\n",
    "\n",
    "for k in target['1']:\n",
    "    update_target.append(k)\n",
    "targ = np.array(update_target)\n",
    "targ.shape"
   ]
  },
  {
   "cell_type": "code",
   "execution_count": 24,
   "metadata": {
    "collapsed": true
   },
   "outputs": [],
   "source": [
    "from sklearn.model_selection import train_test_split\n",
    "target = target.astype('int')\n",
    "x_train, x_test,y_train, y_test = train_test_split(read_train, targ, train_size = 0.8, random_state = 42)\n"
   ]
  },
  {
   "cell_type": "code",
   "execution_count": 8,
   "metadata": {
    "collapsed": true
   },
   "outputs": [],
   "source": [
    "#build keras model\n",
    "\n",
    "from keras import models, Sequential, layers"
   ]
  },
  {
   "cell_type": "code",
   "execution_count": 150,
   "metadata": {},
   "outputs": [
    {
     "name": "stdout",
     "output_type": "stream",
     "text": [
      "_________________________________________________________________\n",
      "Layer (type)                 Output Shape              Param #   \n",
      "=================================================================\n",
      "dense_71 (Dense)             (None, 100)               2100      \n",
      "_________________________________________________________________\n",
      "dense_72 (Dense)             (None, 1000)              101000    \n",
      "_________________________________________________________________\n",
      "dense_73 (Dense)             (None, 1000)              1001000   \n",
      "_________________________________________________________________\n",
      "dense_74 (Dense)             (None, 100)               100100    \n",
      "_________________________________________________________________\n",
      "dense_75 (Dense)             (None, 1)                 101       \n",
      "=================================================================\n",
      "Total params: 1,204,301\n",
      "Trainable params: 1,204,301\n",
      "Non-trainable params: 0\n",
      "_________________________________________________________________\n"
     ]
    }
   ],
   "source": [
    "model = models.Sequential()\n",
    "model.add(layers.Dense(100, activation = 'relu', input_shape = (20,)))\n",
    "model.add(layers.Dense(1000, activation = 'relu'))\n",
    "model.add(layers.Dense(1000, activation = 'relu'))\n",
    "model.add(layers.Dense(100, activation = 'relu'))\n",
    "model.add(layers.Dense(1, activation = 'sigmoid'))\n",
    "model.summary()"
   ]
  },
  {
   "cell_type": "code",
   "execution_count": 123,
   "metadata": {
    "collapsed": true
   },
   "outputs": [],
   "source": [
    "#model prediction on test_data"
   ]
  },
  {
   "cell_type": "code",
   "execution_count": 124,
   "metadata": {
    "scrolled": true
   },
   "outputs": [
    {
     "name": "stdout",
     "output_type": "stream",
     "text": [
      "Train on 18819 samples, validate on 4705 samples\n",
      "Epoch 1/30\n",
      "18819/18819 [==============================] - 3s 143us/step - loss: 0.4172 - acc: 0.8581 - val_loss: 0.3972 - val_acc: 0.8646\n",
      "Epoch 2/30\n",
      "18819/18819 [==============================] - 2s 95us/step - loss: 0.3923 - acc: 0.8611 - val_loss: 0.3772 - val_acc: 0.8648\n",
      "Epoch 3/30\n",
      "18819/18819 [==============================] - 2s 97us/step - loss: 0.4029 - acc: 0.8592 - val_loss: 0.3557 - val_acc: 0.8687\n",
      "Epoch 4/30\n",
      "18819/18819 [==============================] - 2s 96us/step - loss: 0.3601 - acc: 0.8669 - val_loss: 0.3434 - val_acc: 0.8755\n",
      "Epoch 5/30\n",
      "18819/18819 [==============================] - 2s 99us/step - loss: 0.3584 - acc: 0.8676 - val_loss: 0.3372 - val_acc: 0.8774\n",
      "Epoch 6/30\n",
      "18819/18819 [==============================] - 2s 97us/step - loss: 0.3467 - acc: 0.8701 - val_loss: 0.3296 - val_acc: 0.8769\n",
      "Epoch 7/30\n",
      "18819/18819 [==============================] - 2s 102us/step - loss: 0.3477 - acc: 0.8701 - val_loss: 0.3260 - val_acc: 0.8765\n",
      "Epoch 8/30\n",
      "18819/18819 [==============================] - 2s 101us/step - loss: 0.3437 - acc: 0.8707 - val_loss: 0.3430 - val_acc: 0.8740\n",
      "Epoch 9/30\n",
      "18819/18819 [==============================] - 2s 101us/step - loss: 0.3425 - acc: 0.8700 - val_loss: 0.3209 - val_acc: 0.8780\n",
      "Epoch 10/30\n",
      "18819/18819 [==============================] - 2s 100us/step - loss: 0.3355 - acc: 0.8720 - val_loss: 0.3185 - val_acc: 0.8778\n",
      "Epoch 11/30\n",
      "18819/18819 [==============================] - 2s 100us/step - loss: 0.3289 - acc: 0.8732 - val_loss: 0.3659 - val_acc: 0.8691\n",
      "Epoch 12/30\n",
      "18819/18819 [==============================] - 2s 101us/step - loss: 0.3298 - acc: 0.8748 - val_loss: 0.3546 - val_acc: 0.8701\n",
      "Epoch 13/30\n",
      "18819/18819 [==============================] - 2s 101us/step - loss: 0.3284 - acc: 0.8740 - val_loss: 0.3481 - val_acc: 0.8710\n",
      "Epoch 14/30\n",
      "18819/18819 [==============================] - 2s 99us/step - loss: 0.3298 - acc: 0.8748 - val_loss: 0.3094 - val_acc: 0.8806\n",
      "Epoch 15/30\n",
      "18819/18819 [==============================] - 2s 100us/step - loss: 0.3228 - acc: 0.8745 - val_loss: 0.3397 - val_acc: 0.8716\n",
      "Epoch 16/30\n",
      "18819/18819 [==============================] - 2s 103us/step - loss: 0.3221 - acc: 0.8750 - val_loss: 0.3204 - val_acc: 0.8750\n",
      "Epoch 17/30\n",
      "18819/18819 [==============================] - 2s 102us/step - loss: 0.3269 - acc: 0.8737 - val_loss: 0.3067 - val_acc: 0.8793\n",
      "Epoch 18/30\n",
      "18819/18819 [==============================] - 2s 101us/step - loss: 0.3165 - acc: 0.8771 - val_loss: 0.3098 - val_acc: 0.8799\n",
      "Epoch 19/30\n",
      "18819/18819 [==============================] - 2s 100us/step - loss: 0.3160 - acc: 0.8770 - val_loss: 0.3057 - val_acc: 0.8799\n",
      "Epoch 20/30\n",
      "18819/18819 [==============================] - 2s 102us/step - loss: 0.3238 - acc: 0.8748 - val_loss: 0.3044 - val_acc: 0.8801\n",
      "Epoch 21/30\n",
      "18819/18819 [==============================] - 2s 100us/step - loss: 0.3147 - acc: 0.8768 - val_loss: 0.3015 - val_acc: 0.8835\n",
      "Epoch 22/30\n",
      "18819/18819 [==============================] - 2s 101us/step - loss: 0.3145 - acc: 0.8774 - val_loss: 0.3055 - val_acc: 0.8827\n",
      "Epoch 23/30\n",
      "18819/18819 [==============================] - 2s 105us/step - loss: 0.3186 - acc: 0.8765 - val_loss: 0.3058 - val_acc: 0.8820\n",
      "Epoch 24/30\n",
      "18819/18819 [==============================] - 2s 105us/step - loss: 0.3148 - acc: 0.8773 - val_loss: 0.3221 - val_acc: 0.8812\n",
      "Epoch 25/30\n",
      "18819/18819 [==============================] - 2s 103us/step - loss: 0.3118 - acc: 0.8768 - val_loss: 0.2965 - val_acc: 0.8829\n",
      "Epoch 26/30\n",
      "18819/18819 [==============================] - 2s 103us/step - loss: 0.3105 - acc: 0.8775 - val_loss: 0.2956 - val_acc: 0.8814\n",
      "Epoch 27/30\n",
      "18819/18819 [==============================] - 2s 102us/step - loss: 0.3178 - acc: 0.8762 - val_loss: 0.2990 - val_acc: 0.8812\n",
      "Epoch 28/30\n",
      "18819/18819 [==============================] - 2s 101us/step - loss: 0.3094 - acc: 0.8783 - val_loss: 0.2977 - val_acc: 0.8825\n",
      "Epoch 29/30\n",
      "18819/18819 [==============================] - 2s 101us/step - loss: 0.3152 - acc: 0.8759 - val_loss: 0.2992 - val_acc: 0.8818\n",
      "Epoch 30/30\n",
      "18819/18819 [==============================] - 2s 102us/step - loss: 0.3051 - acc: 0.8800 - val_loss: 0.2956 - val_acc: 0.8848\n"
     ]
    }
   ],
   "source": [
    "from keras import optimizers\n",
    "\n",
    "sgd = optimizers.SGD(lr=0.01, decay=1e-6, momentum=0.9, nesterov=True)\n",
    "#model.compile(loss='mean_squared_error', optimizer=sgd)\n",
    "#model.compile(loss = 'binary_crossentropy', optimizer = optimizers.RMSprop(lr = 1e-4), metrics = ['acc'])\n",
    "model.compile(loss = 'binary_crossentropy', optimizer = sgd, metrics = ['acc'])\n",
    "\n",
    "#ada grad\n",
    "#ada_grad = keras.optimizers.Adagrad(lr=0.01, epsilon=None, decay=0.0)\n",
    "\n",
    "history = model.fit(x_train, y_train, epochs = 30, batch_size = 1000, \n",
    "                   validation_data = (x_test, y_test))\n"
   ]
  },
  {
   "cell_type": "code",
   "execution_count": 127,
   "metadata": {
    "scrolled": true
   },
   "outputs": [
    {
     "name": "stdout",
     "output_type": "stream",
     "text": [
      "Train on 18819 samples, validate on 4705 samples\n",
      "Epoch 1/30\n",
      "18819/18819 [==============================] - 3s 147us/step - loss: 2.1981 - acc: 0.8411 - val_loss: 2.1993 - val_acc: 0.8635\n",
      "Epoch 2/30\n",
      "18819/18819 [==============================] - 2s 95us/step - loss: 2.2868 - acc: 0.8581 - val_loss: 2.1993 - val_acc: 0.8635\n",
      "Epoch 3/30\n",
      "18819/18819 [==============================] - 2s 95us/step - loss: 2.2868 - acc: 0.8581 - val_loss: 2.1993 - val_acc: 0.8635\n",
      "Epoch 4/30\n",
      "18819/18819 [==============================] - 2s 97us/step - loss: 2.2868 - acc: 0.8581 - val_loss: 2.1993 - val_acc: 0.8635\n",
      "Epoch 5/30\n",
      "18819/18819 [==============================] - 2s 97us/step - loss: 2.2868 - acc: 0.8581 - val_loss: 2.1993 - val_acc: 0.8635\n",
      "Epoch 6/30\n",
      "18819/18819 [==============================] - 2s 96us/step - loss: 2.2868 - acc: 0.8581 - val_loss: 2.1993 - val_acc: 0.8635\n",
      "Epoch 7/30\n",
      "18819/18819 [==============================] - 2s 97us/step - loss: 2.2868 - acc: 0.8581 - val_loss: 2.1993 - val_acc: 0.8635\n",
      "Epoch 8/30\n",
      "18819/18819 [==============================] - 2s 98us/step - loss: 2.2868 - acc: 0.8581 - val_loss: 2.1993 - val_acc: 0.8635\n",
      "Epoch 9/30\n",
      "18819/18819 [==============================] - 2s 100us/step - loss: 2.2868 - acc: 0.8581 - val_loss: 2.1993 - val_acc: 0.8635\n",
      "Epoch 10/30\n",
      "18819/18819 [==============================] - 2s 96us/step - loss: 2.2868 - acc: 0.8581 - val_loss: 2.1993 - val_acc: 0.8635\n",
      "Epoch 11/30\n",
      "18819/18819 [==============================] - 2s 95us/step - loss: 2.2868 - acc: 0.8581 - val_loss: 2.1993 - val_acc: 0.8635\n",
      "Epoch 12/30\n",
      "18819/18819 [==============================] - 2s 103us/step - loss: 2.2868 - acc: 0.8581 - val_loss: 2.1993 - val_acc: 0.8635\n",
      "Epoch 13/30\n",
      "18819/18819 [==============================] - 2s 105us/step - loss: 2.2868 - acc: 0.8581 - val_loss: 2.1993 - val_acc: 0.8635\n",
      "Epoch 14/30\n",
      "18819/18819 [==============================] - 2s 99us/step - loss: 2.2868 - acc: 0.8581 - val_loss: 2.1993 - val_acc: 0.8635\n",
      "Epoch 15/30\n",
      "18819/18819 [==============================] - 2s 105us/step - loss: 2.2868 - acc: 0.8581 - val_loss: 2.1993 - val_acc: 0.8635\n",
      "Epoch 16/30\n",
      "18819/18819 [==============================] - 2s 102us/step - loss: 2.2868 - acc: 0.8581 - val_loss: 2.1993 - val_acc: 0.8635\n",
      "Epoch 17/30\n",
      "18819/18819 [==============================] - 2s 104us/step - loss: 2.2868 - acc: 0.8581 - val_loss: 2.1993 - val_acc: 0.8635\n",
      "Epoch 18/30\n",
      "18819/18819 [==============================] - 2s 105us/step - loss: 2.2868 - acc: 0.8581 - val_loss: 2.1993 - val_acc: 0.8635\n",
      "Epoch 19/30\n",
      "18819/18819 [==============================] - 2s 103us/step - loss: 2.2868 - acc: 0.8581 - val_loss: 2.1993 - val_acc: 0.8635\n",
      "Epoch 20/30\n",
      "18819/18819 [==============================] - 2s 99us/step - loss: 2.2868 - acc: 0.8581 - val_loss: 2.1993 - val_acc: 0.8635\n",
      "Epoch 21/30\n",
      "18819/18819 [==============================] - 2s 99us/step - loss: 2.2868 - acc: 0.8581 - val_loss: 2.1993 - val_acc: 0.8635\n",
      "Epoch 22/30\n",
      "18819/18819 [==============================] - 2s 99us/step - loss: 2.2868 - acc: 0.8581 - val_loss: 2.1993 - val_acc: 0.8635\n",
      "Epoch 23/30\n",
      "18819/18819 [==============================] - 2s 98us/step - loss: 2.2868 - acc: 0.8581 - val_loss: 2.1993 - val_acc: 0.8635\n",
      "Epoch 24/30\n",
      "18819/18819 [==============================] - 2s 98us/step - loss: 2.2868 - acc: 0.8581 - val_loss: 2.1993 - val_acc: 0.8635\n",
      "Epoch 25/30\n",
      "18819/18819 [==============================] - 2s 97us/step - loss: 2.2868 - acc: 0.8581 - val_loss: 2.1993 - val_acc: 0.8635\n",
      "Epoch 26/30\n",
      "18819/18819 [==============================] - 2s 99us/step - loss: 2.2868 - acc: 0.8581 - val_loss: 2.1993 - val_acc: 0.8635\n",
      "Epoch 27/30\n",
      "18819/18819 [==============================] - 2s 99us/step - loss: 2.2868 - acc: 0.8581 - val_loss: 2.1993 - val_acc: 0.8635\n",
      "Epoch 28/30\n",
      "18819/18819 [==============================] - 2s 99us/step - loss: 2.2868 - acc: 0.8581 - val_loss: 2.1993 - val_acc: 0.8635\n",
      "Epoch 29/30\n",
      "18819/18819 [==============================] - 2s 98us/step - loss: 2.2868 - acc: 0.8581 - val_loss: 2.1993 - val_acc: 0.8635\n",
      "Epoch 30/30\n",
      "18819/18819 [==============================] - 2s 101us/step - loss: 2.2868 - acc: 0.8581 - val_loss: 2.1993 - val_acc: 0.8635\n"
     ]
    }
   ],
   "source": [
    "from keras import optimizers\n",
    "\n",
    "sgd = optimizers.SGD(lr=0.01, decay=1e-6, momentum=0.9, nesterov=True)\n",
    "#model.compile(loss='mean_squared_error', optimizer=sgd)\n",
    "#model.compile(loss = 'binary_crossentropy', optimizer = optimizers.RMSprop(lr = 1e-4), metrics = ['acc'])\n",
    "#ada grad\n",
    "ada_grad = keras.optimizers.Adagrad(lr=0.01, epsilon=None, decay=0.0)\n",
    "\n",
    "#ada_delta\n",
    "#ada_delta = keras.optimizers.Adadelta(lr=1.0, rho=0.95, epsilon=None, decay=0.0)\n",
    "\n",
    "model.compile(loss = 'binary_crossentropy', optimizer = ada_grad, metrics = ['acc'])\n",
    "\n",
    "\n",
    "history = model.fit(x_train, y_train, epochs = 30, batch_size = 1000, \n",
    "                   validation_data = (x_test, y_test))"
   ]
  },
  {
   "cell_type": "code",
   "execution_count": 129,
   "metadata": {
    "scrolled": true
   },
   "outputs": [
    {
     "name": "stdout",
     "output_type": "stream",
     "text": [
      "Train on 18819 samples, validate on 4705 samples\n",
      "Epoch 1/30\n",
      "18819/18819 [==============================] - 3s 165us/step - loss: 0.5041 - acc: 0.8329 - val_loss: 0.3846 - val_acc: 0.8635\n",
      "Epoch 2/30\n",
      "18819/18819 [==============================] - 2s 105us/step - loss: 0.4090 - acc: 0.8581 - val_loss: 0.4000 - val_acc: 0.8635\n",
      "Epoch 3/30\n",
      "18819/18819 [==============================] - 2s 107us/step - loss: 0.3947 - acc: 0.8587 - val_loss: 0.3795 - val_acc: 0.8635\n",
      "Epoch 4/30\n",
      "18819/18819 [==============================] - 2s 108us/step - loss: 0.3867 - acc: 0.8593 - val_loss: 0.3690 - val_acc: 0.8638\n",
      "Epoch 5/30\n",
      "18819/18819 [==============================] - 2s 109us/step - loss: 0.3762 - acc: 0.8629 - val_loss: 0.4080 - val_acc: 0.8638\n",
      "Epoch 6/30\n",
      "18819/18819 [==============================] - 2s 112us/step - loss: 0.3712 - acc: 0.8634 - val_loss: 0.3736 - val_acc: 0.8663\n",
      "Epoch 7/30\n",
      "18819/18819 [==============================] - 2s 112us/step - loss: 0.3635 - acc: 0.8664 - val_loss: 0.3372 - val_acc: 0.8697\n",
      "Epoch 8/30\n",
      "18819/18819 [==============================] - 2s 112us/step - loss: 0.3498 - acc: 0.8669 - val_loss: 0.3337 - val_acc: 0.8706\n",
      "Epoch 9/30\n",
      "18819/18819 [==============================] - 2s 115us/step - loss: 0.3520 - acc: 0.8668 - val_loss: 0.3235 - val_acc: 0.8742\n",
      "Epoch 10/30\n",
      "18819/18819 [==============================] - 2s 111us/step - loss: 0.3472 - acc: 0.8702 - val_loss: 0.3262 - val_acc: 0.8740\n",
      "Epoch 11/30\n",
      "18819/18819 [==============================] - 2s 110us/step - loss: 0.3381 - acc: 0.8705 - val_loss: 0.3244 - val_acc: 0.8774\n",
      "Epoch 12/30\n",
      "18819/18819 [==============================] - 2s 112us/step - loss: 0.3421 - acc: 0.8709 - val_loss: 0.3195 - val_acc: 0.8795\n",
      "Epoch 13/30\n",
      "18819/18819 [==============================] - 2s 110us/step - loss: 0.3394 - acc: 0.8717 - val_loss: 0.3151 - val_acc: 0.8795\n",
      "Epoch 14/30\n",
      "18819/18819 [==============================] - 2s 109us/step - loss: 0.3326 - acc: 0.8723 - val_loss: 0.3129 - val_acc: 0.8772\n",
      "Epoch 15/30\n",
      "18819/18819 [==============================] - 2s 109us/step - loss: 0.3329 - acc: 0.8732 - val_loss: 0.3097 - val_acc: 0.8814\n",
      "Epoch 16/30\n",
      "18819/18819 [==============================] - 2s 110us/step - loss: 0.3384 - acc: 0.8703 - val_loss: 0.3203 - val_acc: 0.8744\n",
      "Epoch 17/30\n",
      "18819/18819 [==============================] - 2s 112us/step - loss: 0.3255 - acc: 0.8742 - val_loss: 0.3171 - val_acc: 0.8735\n",
      "Epoch 18/30\n",
      "18819/18819 [==============================] - 2s 110us/step - loss: 0.3264 - acc: 0.8737 - val_loss: 0.3045 - val_acc: 0.8774\n",
      "Epoch 19/30\n",
      "18819/18819 [==============================] - 2s 110us/step - loss: 0.3204 - acc: 0.8751 - val_loss: 0.3192 - val_acc: 0.8778\n",
      "Epoch 20/30\n",
      "18819/18819 [==============================] - 2s 111us/step - loss: 0.3222 - acc: 0.8742 - val_loss: 0.3067 - val_acc: 0.8827\n",
      "Epoch 21/30\n",
      "18819/18819 [==============================] - 2s 110us/step - loss: 0.3226 - acc: 0.8755 - val_loss: 0.3024 - val_acc: 0.8825\n",
      "Epoch 22/30\n",
      "18819/18819 [==============================] - 2s 110us/step - loss: 0.3227 - acc: 0.8762 - val_loss: 0.3038 - val_acc: 0.8795\n",
      "Epoch 23/30\n",
      "18819/18819 [==============================] - 2s 115us/step - loss: 0.3150 - acc: 0.8760 - val_loss: 0.3070 - val_acc: 0.8761\n",
      "Epoch 24/30\n",
      "18819/18819 [==============================] - 2s 119us/step - loss: 0.3141 - acc: 0.8758 - val_loss: 0.3137 - val_acc: 0.8829\n",
      "Epoch 25/30\n",
      "18819/18819 [==============================] - 2s 120us/step - loss: 0.3088 - acc: 0.8781 - val_loss: 0.3058 - val_acc: 0.8814\n",
      "Epoch 26/30\n",
      "18819/18819 [==============================] - 2s 114us/step - loss: 0.3103 - acc: 0.8784 - val_loss: 0.3314 - val_acc: 0.8678\n",
      "Epoch 27/30\n",
      "18819/18819 [==============================] - 2s 113us/step - loss: 0.3124 - acc: 0.8769 - val_loss: 0.2942 - val_acc: 0.8842\n",
      "Epoch 28/30\n",
      "18819/18819 [==============================] - 2s 111us/step - loss: 0.3167 - acc: 0.8765 - val_loss: 0.2994 - val_acc: 0.8801\n",
      "Epoch 29/30\n",
      "18819/18819 [==============================] - 2s 113us/step - loss: 0.3052 - acc: 0.8794 - val_loss: 0.2912 - val_acc: 0.8835\n",
      "Epoch 30/30\n",
      "18819/18819 [==============================] - 2s 116us/step - loss: 0.3037 - acc: 0.8798 - val_loss: 0.2992 - val_acc: 0.8797\n"
     ]
    }
   ],
   "source": [
    "from keras import optimizers\n",
    "\n",
    "sgd = optimizers.SGD(lr=0.01, decay=1e-6, momentum=0.9, nesterov=True)\n",
    "#model.compile(loss='mean_squared_error', optimizer=sgd)\n",
    "#model.compile(loss = 'binary_crossentropy', optimizer = optimizers.RMSprop(lr = 1e-4), metrics = ['acc'])\n",
    "#ada grad\n",
    "#ada_grad = keras.optimizers.Adagrad(lr=0.01, epsilon=None, decay=0.0)\n",
    "\n",
    "#ada_delta\n",
    "ada_delta = keras.optimizers.Adadelta(lr=1.0, rho=0.95, epsilon=None, decay=0.0)\n",
    "\n",
    "model.compile(loss = 'binary_crossentropy', optimizer = ada_delta, metrics = ['acc'])\n",
    "\n",
    "\n",
    "history = model.fit(x_train, y_train, epochs = 30, batch_size = 1000, \n",
    "                   validation_data = (x_test, y_test))"
   ]
  },
  {
   "cell_type": "code",
   "execution_count": 151,
   "metadata": {
    "scrolled": true
   },
   "outputs": [
    {
     "name": "stdout",
     "output_type": "stream",
     "text": [
      "Train on 18819 samples, validate on 4705 samples\n",
      "Epoch 1/30\n",
      "18819/18819 [==============================] - 3s 185us/step - loss: 0.4841 - acc: 0.8274 - val_loss: 0.3748 - val_acc: 0.8635\n",
      "Epoch 2/30\n",
      "18819/18819 [==============================] - 2s 97us/step - loss: 0.3634 - acc: 0.8623 - val_loss: 0.3450 - val_acc: 0.8718\n",
      "Epoch 3/30\n",
      "18819/18819 [==============================] - 2s 97us/step - loss: 0.3448 - acc: 0.8667 - val_loss: 0.3405 - val_acc: 0.8682\n",
      "Epoch 4/30\n",
      "18819/18819 [==============================] - 2s 100us/step - loss: 0.3303 - acc: 0.8713 - val_loss: 0.3161 - val_acc: 0.8778\n",
      "Epoch 5/30\n",
      "18819/18819 [==============================] - 2s 103us/step - loss: 0.3213 - acc: 0.8739 - val_loss: 0.3103 - val_acc: 0.8797\n",
      "Epoch 6/30\n",
      "18819/18819 [==============================] - 2s 108us/step - loss: 0.3134 - acc: 0.8766 - val_loss: 0.3013 - val_acc: 0.8827\n",
      "Epoch 7/30\n",
      "18819/18819 [==============================] - 2s 106us/step - loss: 0.3123 - acc: 0.8773 - val_loss: 0.3013 - val_acc: 0.8812\n",
      "Epoch 8/30\n",
      "18819/18819 [==============================] - 2s 101us/step - loss: 0.3089 - acc: 0.8773 - val_loss: 0.2962 - val_acc: 0.8795\n",
      "Epoch 9/30\n",
      "18819/18819 [==============================] - 2s 100us/step - loss: 0.3076 - acc: 0.8791 - val_loss: 0.2938 - val_acc: 0.8852\n",
      "Epoch 10/30\n",
      "18819/18819 [==============================] - 2s 100us/step - loss: 0.3103 - acc: 0.8774 - val_loss: 0.3058 - val_acc: 0.8812\n",
      "Epoch 11/30\n",
      "18819/18819 [==============================] - 2s 101us/step - loss: 0.3026 - acc: 0.8796 - val_loss: 0.3058 - val_acc: 0.8795\n",
      "Epoch 12/30\n",
      "18819/18819 [==============================] - 2s 102us/step - loss: 0.2993 - acc: 0.8796 - val_loss: 0.2887 - val_acc: 0.8850\n",
      "Epoch 13/30\n",
      "18819/18819 [==============================] - 2s 106us/step - loss: 0.2943 - acc: 0.8816 - val_loss: 0.2838 - val_acc: 0.8874\n",
      "Epoch 14/30\n",
      "18819/18819 [==============================] - 2s 113us/step - loss: 0.2986 - acc: 0.8795 - val_loss: 0.2983 - val_acc: 0.8846\n",
      "Epoch 15/30\n",
      "18819/18819 [==============================] - 2s 109us/step - loss: 0.2970 - acc: 0.8807 - val_loss: 0.2984 - val_acc: 0.8837\n",
      "Epoch 16/30\n",
      "18819/18819 [==============================] - 2s 103us/step - loss: 0.2949 - acc: 0.8820 - val_loss: 0.2987 - val_acc: 0.8842\n",
      "Epoch 17/30\n",
      "18819/18819 [==============================] - 2s 110us/step - loss: 0.2991 - acc: 0.8797 - val_loss: 0.2923 - val_acc: 0.8857\n",
      "Epoch 18/30\n",
      "18819/18819 [==============================] - 2s 108us/step - loss: 0.2891 - acc: 0.8814 - val_loss: 0.2879 - val_acc: 0.8854\n",
      "Epoch 19/30\n",
      "18819/18819 [==============================] - 2s 102us/step - loss: 0.2898 - acc: 0.8814 - val_loss: 0.2864 - val_acc: 0.8842\n",
      "Epoch 20/30\n",
      "18819/18819 [==============================] - 2s 102us/step - loss: 0.2848 - acc: 0.8819 - val_loss: 0.2824 - val_acc: 0.8857\n",
      "Epoch 21/30\n",
      "18819/18819 [==============================] - 2s 99us/step - loss: 0.2846 - acc: 0.8830 - val_loss: 0.2870 - val_acc: 0.8882\n",
      "Epoch 22/30\n",
      "18819/18819 [==============================] - 2s 103us/step - loss: 0.2840 - acc: 0.8833 - val_loss: 0.2820 - val_acc: 0.8878\n",
      "Epoch 23/30\n",
      "18819/18819 [==============================] - 2s 108us/step - loss: 0.2853 - acc: 0.8816 - val_loss: 0.2966 - val_acc: 0.8859\n",
      "Epoch 24/30\n",
      "18819/18819 [==============================] - 2s 107us/step - loss: 0.2817 - acc: 0.8842 - val_loss: 0.2820 - val_acc: 0.8882\n",
      "Epoch 25/30\n",
      "18819/18819 [==============================] - 2s 119us/step - loss: 0.2815 - acc: 0.8852 - val_loss: 0.2851 - val_acc: 0.8882\n",
      "Epoch 26/30\n",
      "18819/18819 [==============================] - 2s 125us/step - loss: 0.2871 - acc: 0.8834 - val_loss: 0.2847 - val_acc: 0.8867\n",
      "Epoch 27/30\n",
      "18819/18819 [==============================] - 2s 120us/step - loss: 0.2783 - acc: 0.8849 - val_loss: 0.2819 - val_acc: 0.8882\n",
      "Epoch 28/30\n",
      "18819/18819 [==============================] - 2s 120us/step - loss: 0.2804 - acc: 0.8851 - val_loss: 0.2966 - val_acc: 0.8837\n",
      "Epoch 29/30\n",
      "18819/18819 [==============================] - 2s 124us/step - loss: 0.2794 - acc: 0.8853 - val_loss: 0.2875 - val_acc: 0.8867\n",
      "Epoch 30/30\n",
      "18819/18819 [==============================] - 2s 125us/step - loss: 0.2823 - acc: 0.8852 - val_loss: 0.2842 - val_acc: 0.8874\n"
     ]
    }
   ],
   "source": [
    "from keras import optimizers\n",
    "\n",
    "sgd = optimizers.SGD(lr=0.01, decay=1e-6, momentum=0.9, nesterov=True)\n",
    "#model.compile(loss='mean_squared_error', optimizer=sgd)\n",
    "#model.compile(loss = 'binary_crossentropy', optimizer = optimizers.RMSprop(lr = 1e-4), metrics = ['acc'])\n",
    "#ada grad\n",
    "#ada_grad = keras.optimizers.Adagrad(lr=0.01, epsilon=None, decay=0.0)\n",
    "\n",
    "#ada_delta\n",
    "#ada_delta = keras.optimizers.Adadelta(lr=1.0, rho=0.95, epsilon=None, decay=0.0)\n",
    "\n",
    "#Adam\n",
    "adam = keras.optimizers.Adam(lr=0.001, beta_1=0.9, beta_2=0.999, epsilon=None, decay=0.0, amsgrad=False)\n",
    "\n",
    "model.compile(loss = 'binary_crossentropy', optimizer = adam, metrics = ['acc'])\n",
    "\n",
    "\n",
    "history = model.fit(x_train, y_train, epochs = 30, batch_size = 1000, \n",
    "                   validation_data = (x_test, y_test))"
   ]
  },
  {
   "cell_type": "code",
   "execution_count": 139,
   "metadata": {
    "scrolled": true
   },
   "outputs": [
    {
     "name": "stdout",
     "output_type": "stream",
     "text": [
      "Train on 18819 samples, validate on 4705 samples\n",
      "Epoch 1/30\n",
      "18819/18819 [==============================] - 3s 162us/step - loss: 0.4928 - acc: 0.8528 - val_loss: 0.3769 - val_acc: 0.8635\n",
      "Epoch 2/30\n",
      "18819/18819 [==============================] - 2s 99us/step - loss: 0.3688 - acc: 0.8596 - val_loss: 0.3427 - val_acc: 0.8706\n",
      "Epoch 3/30\n",
      "18819/18819 [==============================] - 2s 108us/step - loss: 0.3457 - acc: 0.8670 - val_loss: 0.3304 - val_acc: 0.8733\n",
      "Epoch 4/30\n",
      "18819/18819 [==============================] - 2s 102us/step - loss: 0.3362 - acc: 0.8707 - val_loss: 0.3195 - val_acc: 0.8780\n",
      "Epoch 5/30\n",
      "18819/18819 [==============================] - 2s 105us/step - loss: 0.3267 - acc: 0.8735 - val_loss: 0.3167 - val_acc: 0.8784\n",
      "Epoch 6/30\n",
      "18819/18819 [==============================] - 2s 105us/step - loss: 0.3210 - acc: 0.8742 - val_loss: 0.3084 - val_acc: 0.8801\n",
      "Epoch 7/30\n",
      "18819/18819 [==============================] - 2s 109us/step - loss: 0.3136 - acc: 0.8766 - val_loss: 0.3040 - val_acc: 0.8806\n",
      "Epoch 8/30\n",
      "18819/18819 [==============================] - 2s 105us/step - loss: 0.3105 - acc: 0.8774 - val_loss: 0.3069 - val_acc: 0.8793\n",
      "Epoch 9/30\n",
      "18819/18819 [==============================] - 2s 102us/step - loss: 0.3172 - acc: 0.8752 - val_loss: 0.3020 - val_acc: 0.8795\n",
      "Epoch 10/30\n",
      "18819/18819 [==============================] - 2s 103us/step - loss: 0.3091 - acc: 0.8782 - val_loss: 0.2960 - val_acc: 0.8818\n",
      "Epoch 11/30\n",
      "18819/18819 [==============================] - 2s 102us/step - loss: 0.3019 - acc: 0.8791 - val_loss: 0.2977 - val_acc: 0.8806\n",
      "Epoch 12/30\n",
      "18819/18819 [==============================] - 2s 103us/step - loss: 0.3021 - acc: 0.8782 - val_loss: 0.2940 - val_acc: 0.8844\n",
      "Epoch 13/30\n",
      "18819/18819 [==============================] - 2s 103us/step - loss: 0.3006 - acc: 0.8782 - val_loss: 0.2958 - val_acc: 0.8831\n",
      "Epoch 14/30\n",
      "18819/18819 [==============================] - 2s 104us/step - loss: 0.2978 - acc: 0.8807 - val_loss: 0.2889 - val_acc: 0.8825\n",
      "Epoch 15/30\n",
      "18819/18819 [==============================] - 2s 104us/step - loss: 0.2999 - acc: 0.8789 - val_loss: 0.2986 - val_acc: 0.8840\n",
      "Epoch 16/30\n",
      "18819/18819 [==============================] - 2s 102us/step - loss: 0.2994 - acc: 0.8806 - val_loss: 0.2963 - val_acc: 0.8820\n",
      "Epoch 17/30\n",
      "18819/18819 [==============================] - 2s 103us/step - loss: 0.2956 - acc: 0.8804 - val_loss: 0.2984 - val_acc: 0.8829\n",
      "Epoch 18/30\n",
      "18819/18819 [==============================] - 2s 104us/step - loss: 0.2939 - acc: 0.8817 - val_loss: 0.2900 - val_acc: 0.8844\n",
      "Epoch 19/30\n",
      "18819/18819 [==============================] - 2s 105us/step - loss: 0.2976 - acc: 0.8790 - val_loss: 0.2864 - val_acc: 0.8842\n",
      "Epoch 20/30\n",
      "18819/18819 [==============================] - 2s 104us/step - loss: 0.2936 - acc: 0.8812 - val_loss: 0.2935 - val_acc: 0.8825\n",
      "Epoch 21/30\n",
      "18819/18819 [==============================] - 2s 106us/step - loss: 0.2903 - acc: 0.8819 - val_loss: 0.2933 - val_acc: 0.8825\n",
      "Epoch 22/30\n",
      "18819/18819 [==============================] - 2s 105us/step - loss: 0.2886 - acc: 0.8819 - val_loss: 0.2873 - val_acc: 0.8842\n",
      "Epoch 23/30\n",
      "18819/18819 [==============================] - 2s 105us/step - loss: 0.2910 - acc: 0.8818 - val_loss: 0.2886 - val_acc: 0.8831\n",
      "Epoch 24/30\n",
      "18819/18819 [==============================] - 2s 107us/step - loss: 0.2906 - acc: 0.8821 - val_loss: 0.2876 - val_acc: 0.8837\n",
      "Epoch 25/30\n",
      "18819/18819 [==============================] - 2s 106us/step - loss: 0.2891 - acc: 0.8813 - val_loss: 0.2853 - val_acc: 0.8867\n",
      "Epoch 26/30\n",
      "18819/18819 [==============================] - 2s 106us/step - loss: 0.2866 - acc: 0.8833 - val_loss: 0.2864 - val_acc: 0.8846\n",
      "Epoch 27/30\n",
      "18819/18819 [==============================] - 2s 104us/step - loss: 0.2878 - acc: 0.8827 - val_loss: 0.2853 - val_acc: 0.8848\n",
      "Epoch 28/30\n",
      "18819/18819 [==============================] - 2s 108us/step - loss: 0.2862 - acc: 0.8834 - val_loss: 0.2973 - val_acc: 0.8818\n",
      "Epoch 29/30\n",
      "18819/18819 [==============================] - 2s 114us/step - loss: 0.2902 - acc: 0.8834 - val_loss: 0.2891 - val_acc: 0.8852\n",
      "Epoch 30/30\n",
      "18819/18819 [==============================] - 2s 107us/step - loss: 0.2843 - acc: 0.8845 - val_loss: 0.2820 - val_acc: 0.8863\n"
     ]
    }
   ],
   "source": [
    "from keras import optimizers\n",
    "\n",
    "sgd = optimizers.SGD(lr=0.01, decay=1e-6, momentum=0.9, nesterov=True)\n",
    "#model.compile(loss='mean_squared_error', optimizer=sgd)\n",
    "#model.compile(loss = 'binary_crossentropy', optimizer = optimizers.RMSprop(lr = 1e-4), metrics = ['acc'])\n",
    "#ada grad\n",
    "#ada_grad = keras.optimizers.Adagrad(lr=0.01, epsilon=None, decay=0.0)\n",
    "\n",
    "#ada_delta\n",
    "#ada_delta = keras.optimizers.Adadelta(lr=1.0, rho=0.95, epsilon=None, decay=0.0)\n",
    "\n",
    "#Adam\n",
    "#adam = keras.optimizers.Adam(lr=0.001, beta_1=0.9, beta_2=0.999, epsilon=None, decay=0.0, amsgrad=False)\n",
    "\n",
    "\n",
    "#ada_max\n",
    "ada_max = keras.optimizers.Adamax(lr=0.002, beta_1=0.9, beta_2=0.999, epsilon=None, decay=0.0)\n",
    "\n",
    "model.compile(loss = 'binary_crossentropy', optimizer = ada_max, metrics = ['acc'])\n",
    "\n",
    "\n",
    "history = model.fit(x_train, y_train, epochs = 30, batch_size = 1000, \n",
    "                   validation_data = (x_test, y_test))"
   ]
  },
  {
   "cell_type": "code",
   "execution_count": 144,
   "metadata": {
    "scrolled": true
   },
   "outputs": [
    {
     "name": "stdout",
     "output_type": "stream",
     "text": [
      "Train on 18819 samples, validate on 4705 samples\n",
      "Epoch 1/30\n",
      "18819/18819 [==============================] - 3s 180us/step - loss: 0.5479 - acc: 0.8198 - val_loss: 0.3898 - val_acc: 0.8635\n",
      "Epoch 2/30\n",
      "18819/18819 [==============================] - 2s 107us/step - loss: 0.3885 - acc: 0.8596 - val_loss: 0.3466 - val_acc: 0.8693\n",
      "Epoch 3/30\n",
      "18819/18819 [==============================] - 2s 103us/step - loss: 0.3685 - acc: 0.8650 - val_loss: 0.3513 - val_acc: 0.8725\n",
      "Epoch 4/30\n",
      "18819/18819 [==============================] - 2s 106us/step - loss: 0.3479 - acc: 0.8682 - val_loss: 0.3284 - val_acc: 0.8710\n",
      "Epoch 5/30\n",
      "18819/18819 [==============================] - 2s 105us/step - loss: 0.3515 - acc: 0.8670 - val_loss: 0.3341 - val_acc: 0.8710\n",
      "Epoch 6/30\n",
      "18819/18819 [==============================] - 2s 104us/step - loss: 0.3326 - acc: 0.8728 - val_loss: 0.3271 - val_acc: 0.8616\n",
      "Epoch 7/30\n",
      "18819/18819 [==============================] - 2s 108us/step - loss: 0.3239 - acc: 0.8723 - val_loss: 0.3057 - val_acc: 0.8748\n",
      "Epoch 8/30\n",
      "18819/18819 [==============================] - 2s 106us/step - loss: 0.3233 - acc: 0.8754 - val_loss: 0.3003 - val_acc: 0.8816\n",
      "Epoch 9/30\n",
      "18819/18819 [==============================] - 2s 105us/step - loss: 0.3147 - acc: 0.8758 - val_loss: 0.3199 - val_acc: 0.8799\n",
      "Epoch 10/30\n",
      "18819/18819 [==============================] - 2s 105us/step - loss: 0.3207 - acc: 0.8767 - val_loss: 0.3039 - val_acc: 0.8769\n",
      "Epoch 11/30\n",
      "18819/18819 [==============================] - 2s 106us/step - loss: 0.3073 - acc: 0.8785 - val_loss: 0.2907 - val_acc: 0.8825\n",
      "Epoch 12/30\n",
      "18819/18819 [==============================] - 2s 105us/step - loss: 0.3089 - acc: 0.8803 - val_loss: 0.2922 - val_acc: 0.8844\n",
      "Epoch 13/30\n",
      "18819/18819 [==============================] - 2s 106us/step - loss: 0.3062 - acc: 0.8781 - val_loss: 0.3022 - val_acc: 0.8842\n",
      "Epoch 14/30\n",
      "18819/18819 [==============================] - 2s 106us/step - loss: 0.3024 - acc: 0.8799 - val_loss: 0.3019 - val_acc: 0.8820\n",
      "Epoch 15/30\n",
      "18819/18819 [==============================] - 2s 106us/step - loss: 0.2986 - acc: 0.8812 - val_loss: 0.2859 - val_acc: 0.8846\n",
      "Epoch 16/30\n",
      "18819/18819 [==============================] - 2s 104us/step - loss: 0.3026 - acc: 0.8799 - val_loss: 0.2864 - val_acc: 0.8842\n",
      "Epoch 17/30\n",
      "18819/18819 [==============================] - 2s 106us/step - loss: 0.2997 - acc: 0.8824 - val_loss: 0.3229 - val_acc: 0.8850\n",
      "Epoch 18/30\n",
      "18819/18819 [==============================] - 2s 107us/step - loss: 0.2944 - acc: 0.8846 - val_loss: 0.2847 - val_acc: 0.8850\n",
      "Epoch 19/30\n",
      "18819/18819 [==============================] - 2s 106us/step - loss: 0.2975 - acc: 0.8830 - val_loss: 0.2829 - val_acc: 0.8871\n",
      "Epoch 20/30\n",
      "18819/18819 [==============================] - 2s 109us/step - loss: 0.2985 - acc: 0.8833 - val_loss: 0.2843 - val_acc: 0.8865\n",
      "Epoch 21/30\n",
      "18819/18819 [==============================] - 2s 116us/step - loss: 0.3231 - acc: 0.8802 - val_loss: 0.3439 - val_acc: 0.8820\n",
      "Epoch 22/30\n",
      "18819/18819 [==============================] - 2s 108us/step - loss: 1.7171 - acc: 0.8248 - val_loss: 2.1993 - val_acc: 0.8635\n",
      "Epoch 23/30\n",
      "18819/18819 [==============================] - 2s 110us/step - loss: 2.2868 - acc: 0.8581 - val_loss: 2.1993 - val_acc: 0.8635\n",
      "Epoch 24/30\n",
      "18819/18819 [==============================] - 2s 117us/step - loss: 2.2868 - acc: 0.8581 - val_loss: 2.1993 - val_acc: 0.8635\n",
      "Epoch 25/30\n",
      "18819/18819 [==============================] - 2s 110us/step - loss: 2.2868 - acc: 0.8581 - val_loss: 2.1993 - val_acc: 0.8635\n",
      "Epoch 26/30\n",
      "18819/18819 [==============================] - 2s 113us/step - loss: 2.2868 - acc: 0.8581 - val_loss: 2.1993 - val_acc: 0.8635\n",
      "Epoch 27/30\n",
      "18819/18819 [==============================] - 2s 110us/step - loss: 2.2868 - acc: 0.8581 - val_loss: 2.1993 - val_acc: 0.8635\n",
      "Epoch 28/30\n",
      "18819/18819 [==============================] - 2s 112us/step - loss: 2.2868 - acc: 0.8581 - val_loss: 2.1993 - val_acc: 0.8635\n",
      "Epoch 29/30\n",
      "18819/18819 [==============================] - 2s 111us/step - loss: 2.2868 - acc: 0.8581 - val_loss: 2.1993 - val_acc: 0.8635\n",
      "Epoch 30/30\n",
      "18819/18819 [==============================] - 2s 113us/step - loss: 2.2868 - acc: 0.8581 - val_loss: 2.1993 - val_acc: 0.8635\n"
     ]
    }
   ],
   "source": [
    "from keras import optimizers\n",
    "\n",
    "sgd = optimizers.SGD(lr=0.01, decay=1e-6, momentum=0.9, nesterov=True)\n",
    "#model.compile(loss='mean_squared_error', optimizer=sgd)\n",
    "#model.compile(loss = 'binary_crossentropy', optimizer = optimizers.RMSprop(lr = 1e-4), metrics = ['acc'])\n",
    "#ada grad\n",
    "#ada_grad = keras.optimizers.Adagrad(lr=0.01, epsilon=None, decay=0.0)\n",
    "\n",
    "#ada_delta\n",
    "#ada_delta = keras.optimizers.Adadelta(lr=1.0, rho=0.95, epsilon=None, decay=0.0)\n",
    "\n",
    "#Adam\n",
    "#adam = keras.optimizers.Adam(lr=0.001, beta_1=0.9, beta_2=0.999, epsilon=None, decay=0.0, amsgrad=False)\n",
    "\n",
    "\n",
    "#ada_max\n",
    "#ada_max = keras.optimizers.Adamax(lr=0.002, beta_1=0.9, beta_2=0.999, epsilon=None, decay=0.0)\n",
    "\n",
    "#nadam\n",
    "nadam = keras.optimizers.Nadam(lr=0.002, beta_1=0.9, beta_2=0.999, epsilon=None, schedule_decay=0.004)\n",
    "\n",
    "model.compile(loss = 'binary_crossentropy', optimizer = nadam, metrics = ['acc'])\n",
    "\n",
    "\n",
    "history = model.fit(x_train, y_train, epochs = 30, batch_size = 1000, \n",
    "                   validation_data = (x_test, y_test))"
   ]
  },
  {
   "cell_type": "code",
   "execution_count": 152,
   "metadata": {
    "scrolled": false
   },
   "outputs": [
    {
     "data": {
      "image/png": "[encoded data removed]",
      "text/plain": [
       "<Figure size 432x288 with 1 Axes>"
      ]
     },
     "metadata": {},
     "output_type": "display_data"
    }
   ],
   "source": [
    "# plotting the training and validation loss\n",
    "\n",
    "history_dict = history.history\n",
    "loss_values = history_dict['loss']\n",
    "val_loss_values = history_dict['val_loss']\n",
    "\n",
    "epochs = range(1, 31)\n",
    "plt.plot(epochs, loss_values, 'bo', label = 'Training loss')\n",
    "plt.plot(epochs, val_loss_values, 'b', label = 'validation loss')\n",
    "plt.title('training and validation loss')\n",
    "plt.xlabel('epochs')\n",
    "plt.ylabel('loss')\n",
    "plt.legend()\n",
    "plt.show()"
   ]
  },
  {
   "cell_type": "code",
   "execution_count": 153,
   "metadata": {},
   "outputs": [
    {
     "data": {
      "image/png": "[encoded data removed]",
      "text/plain": [
       "<Figure size 432x288 with 1 Axes>"
      ]
     },
     "metadata": {},
     "output_type": "display_data"
    }
   ],
   "source": [
    "# plotting the training and validation acc\n",
    "\n",
    "history_dict = history.history\n",
    "loss_values = history_dict['acc']\n",
    "val_loss_values = history_dict['val_acc']\n",
    "\n",
    "epochs = range(1, 31)\n",
    "plt.plot(epochs, loss_values, 'bo', label = 'Training acc')\n",
    "plt.plot(epochs, val_loss_values, 'b', label = 'validation acc')\n",
    "plt.title('training and validation acc')\n",
    "plt.xlabel('epochs')\n",
    "plt.ylabel('acc')\n",
    "plt.legend()\n",
    "plt.show()"
   ]
  },
  {
   "cell_type": "code",
   "execution_count": 154,
   "metadata": {},
   "outputs": [
    {
     "name": "stdout",
     "output_type": "stream",
     "text": [
      "4705/4705 [==============================] - 1s 127us/step\n",
      "18819/18819 [==============================] - 2s 125us/step\n"
     ]
    },
    {
     "data": {
      "text/plain": [
       "([0.28423121379615141, 0.88735387885228478],\n",
       " [0.2772710949389966, 0.88724161751738162])"
      ]
     },
     "execution_count": 154,
     "metadata": {},
     "output_type": "execute_result"
    }
   ],
   "source": [
    "model.evaluate(x_test, y_test), model.evaluate(x_train, y_train)"
   ]
  },
  {
   "cell_type": "code",
   "execution_count": 155,
   "metadata": {},
   "outputs": [
    {
     "data": {
      "text/plain": [
       "0    0\n",
       "1    1\n",
       "2    0\n",
       "3    0\n",
       "4    0\n",
       "5    0\n",
       "6    0\n",
       "7    1\n",
       "8    0\n",
       "9    0\n",
       "Name: 0, dtype: int64"
      ]
     },
     "execution_count": 155,
     "metadata": {},
     "output_type": "execute_result"
    }
   ],
   "source": [
    "prediction = model.predict(read_test)\n",
    "set_val = 0\n",
    "\n",
    "def approximate(val):\n",
    "    if val <= 0.5:\n",
    "        set_val = 0\n",
    "    else:\n",
    "        set_val = 1\n",
    "    return set_val\n",
    "data = pd.DataFrame(prediction)\n",
    "approximate_data = data[0].apply(approximate)\n",
    "approximate_data[:10]"
   ]
  },
  {
   "cell_type": "code",
   "execution_count": 156,
   "metadata": {},
   "outputs": [
    {
     "data": {
      "text/html": [
       "<div>\n",
       "<style scoped>\n",
       "    .dataframe tbody tr th:only-of-type {\n",
       "        vertical-align: middle;\n",
       "    }\n",
       "\n",
       "    .dataframe tbody tr th {\n",
       "        vertical-align: top;\n",
       "    }\n",
       "\n",
       "    .dataframe thead th {\n",
       "        text-align: right;\n",
       "    }\n",
       "</style>\n",
       "<table border=\"1\" class=\"dataframe\">\n",
       "  <thead>\n",
       "    <tr style=\"text-align: right;\">\n",
       "      <th></th>\n",
       "      <th>uniqueid</th>\n",
       "    </tr>\n",
       "  </thead>\n",
       "  <tbody>\n",
       "    <tr>\n",
       "      <th>0</th>\n",
       "      <td>uniqueid_6056 x Kenya</td>\n",
       "    </tr>\n",
       "    <tr>\n",
       "      <th>1</th>\n",
       "      <td>uniqueid_6060 x Kenya</td>\n",
       "    </tr>\n",
       "    <tr>\n",
       "      <th>2</th>\n",
       "      <td>uniqueid_6065 x Kenya</td>\n",
       "    </tr>\n",
       "    <tr>\n",
       "      <th>3</th>\n",
       "      <td>uniqueid_6072 x Kenya</td>\n",
       "    </tr>\n",
       "    <tr>\n",
       "      <th>4</th>\n",
       "      <td>uniqueid_6073 x Kenya</td>\n",
       "    </tr>\n",
       "  </tbody>\n",
       "</table>\n",
       "</div>"
      ],
      "text/plain": [
       "                uniqueid\n",
       "0  uniqueid_6056 x Kenya\n",
       "1  uniqueid_6060 x Kenya\n",
       "2  uniqueid_6065 x Kenya\n",
       "3  uniqueid_6072 x Kenya\n",
       "4  uniqueid_6073 x Kenya"
      ]
     },
     "execution_count": 156,
     "metadata": {},
     "output_type": "execute_result"
    }
   ],
   "source": [
    "unique_id = pd.read_csv('test_unique_id.csv')\n",
    "unique_id = unique_id.drop('Unnamed: 0', axis = 1)\n",
    "unique_id.head()"
   ]
  },
  {
   "cell_type": "code",
   "execution_count": 157,
   "metadata": {},
   "outputs": [
    {
     "data": {
      "text/html": [
       "<div>\n",
       "<style scoped>\n",
       "    .dataframe tbody tr th:only-of-type {\n",
       "        vertical-align: middle;\n",
       "    }\n",
       "\n",
       "    .dataframe tbody tr th {\n",
       "        vertical-align: top;\n",
       "    }\n",
       "\n",
       "    .dataframe thead th {\n",
       "        text-align: right;\n",
       "    }\n",
       "</style>\n",
       "<table border=\"1\" class=\"dataframe\">\n",
       "  <thead>\n",
       "    <tr style=\"text-align: right;\">\n",
       "      <th></th>\n",
       "      <th>uniqueid</th>\n",
       "      <th>bank_account</th>\n",
       "    </tr>\n",
       "  </thead>\n",
       "  <tbody>\n",
       "    <tr>\n",
       "      <th>0</th>\n",
       "      <td>uniqueid_6056 x Kenya</td>\n",
       "      <td>0</td>\n",
       "    </tr>\n",
       "    <tr>\n",
       "      <th>1</th>\n",
       "      <td>uniqueid_6060 x Kenya</td>\n",
       "      <td>1</td>\n",
       "    </tr>\n",
       "    <tr>\n",
       "      <th>2</th>\n",
       "      <td>uniqueid_6065 x Kenya</td>\n",
       "      <td>0</td>\n",
       "    </tr>\n",
       "    <tr>\n",
       "      <th>3</th>\n",
       "      <td>uniqueid_6072 x Kenya</td>\n",
       "      <td>0</td>\n",
       "    </tr>\n",
       "    <tr>\n",
       "      <th>4</th>\n",
       "      <td>uniqueid_6073 x Kenya</td>\n",
       "      <td>0</td>\n",
       "    </tr>\n",
       "  </tbody>\n",
       "</table>\n",
       "</div>"
      ],
      "text/plain": [
       "                uniqueid  bank_account\n",
       "0  uniqueid_6056 x Kenya             0\n",
       "1  uniqueid_6060 x Kenya             1\n",
       "2  uniqueid_6065 x Kenya             0\n",
       "3  uniqueid_6072 x Kenya             0\n",
       "4  uniqueid_6073 x Kenya             0"
      ]
     },
     "execution_count": 157,
     "metadata": {},
     "output_type": "execute_result"
    }
   ],
   "source": [
    "unique_id['bank_account'] = approximate_data\n",
    "unique_id.head()"
   ]
  },
  {
   "cell_type": "code",
   "execution_count": 158,
   "metadata": {},
   "outputs": [
    {
     "data": {
      "text/html": [
       "<div>\n",
       "<style scoped>\n",
       "    .dataframe tbody tr th:only-of-type {\n",
       "        vertical-align: middle;\n",
       "    }\n",
       "\n",
       "    .dataframe tbody tr th {\n",
       "        vertical-align: top;\n",
       "    }\n",
       "\n",
       "    .dataframe thead th {\n",
       "        text-align: right;\n",
       "    }\n",
       "</style>\n",
       "<table border=\"1\" class=\"dataframe\">\n",
       "  <thead>\n",
       "    <tr style=\"text-align: right;\">\n",
       "      <th></th>\n",
       "      <th>uniqueid</th>\n",
       "      <th>bank_account</th>\n",
       "    </tr>\n",
       "  </thead>\n",
       "  <tbody>\n",
       "    <tr>\n",
       "      <th>0</th>\n",
       "      <td>uniqueid_6056 x Kenya</td>\n",
       "      <td>1</td>\n",
       "    </tr>\n",
       "    <tr>\n",
       "      <th>1</th>\n",
       "      <td>uniqueid_6060 x Kenya</td>\n",
       "      <td>1</td>\n",
       "    </tr>\n",
       "    <tr>\n",
       "      <th>2</th>\n",
       "      <td>uniqueid_6065 x Kenya</td>\n",
       "      <td>0</td>\n",
       "    </tr>\n",
       "    <tr>\n",
       "      <th>3</th>\n",
       "      <td>uniqueid_6072 x Kenya</td>\n",
       "      <td>0</td>\n",
       "    </tr>\n",
       "    <tr>\n",
       "      <th>4</th>\n",
       "      <td>uniqueid_6073 x Kenya</td>\n",
       "      <td>0</td>\n",
       "    </tr>\n",
       "  </tbody>\n",
       "</table>\n",
       "</div>"
      ],
      "text/plain": [
       "                uniqueid  bank_account\n",
       "0  uniqueid_6056 x Kenya             1\n",
       "1  uniqueid_6060 x Kenya             1\n",
       "2  uniqueid_6065 x Kenya             0\n",
       "3  uniqueid_6072 x Kenya             0\n",
       "4  uniqueid_6073 x Kenya             0"
      ]
     },
     "execution_count": 158,
     "metadata": {},
     "output_type": "execute_result"
    }
   ],
   "source": [
    "gbrt_data = pd.read_csv('gbrt.csv')\n",
    "#gbrt_data = gbrt_data.drop('Unnamed: 0', axis = 1)\n",
    "gbrt_data.head()"
   ]
  },
  {
   "cell_type": "code",
   "execution_count": 159,
   "metadata": {},
   "outputs": [
    {
     "data": {
      "text/plain": [
       "0.94140392623438429"
      ]
     },
     "execution_count": 159,
     "metadata": {},
     "output_type": "execute_result"
    }
   ],
   "source": [
    "from sklearn.metrics import accuracy_score\n",
    "accuracy_score(gbrt_data['bank_account'], unique_id['bank_account'])"
   ]
  },
  {
   "cell_type": "code",
   "execution_count": 160,
   "metadata": {
    "collapsed": true
   },
   "outputs": [],
   "source": [
    "unique_id.to_csv('keras_one.csv', index = False)"
   ]
  },
  {
   "cell_type": "raw",
   "metadata": {},
   "source": [
    "https://keras.io/optimizers/"
   ]
  },
  {
   "cell_type": "code",
   "execution_count": null,
   "metadata": {
    "collapsed": true
   },
   "outputs": [],
   "source": []
  }
 ],
 "metadata": {
  "kernelspec": {
   "display_name": "Python 3",
   "language": "python",
   "name": "python3"
  },
  "language_info": {
   "codemirror_mode": {
    "name": "ipython",
    "version": 3
   },
   "file_extension": ".py",
   "mimetype": "text/x-python",
   "name": "python",
   "nbconvert_exporter": "python",
   "pygments_lexer": "ipython3",
   "version": "3.6.1"
  }
 },
 "nbformat": 4,
 "nbformat_minor": 2
}
