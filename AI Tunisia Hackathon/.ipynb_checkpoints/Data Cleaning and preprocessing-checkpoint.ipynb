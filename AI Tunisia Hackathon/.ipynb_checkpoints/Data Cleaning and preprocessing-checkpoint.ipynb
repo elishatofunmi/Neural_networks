{
 "cells": [
  {
   "cell_type": "code",
   "execution_count": 1,
   "metadata": {
    "collapsed": true
   },
   "outputs": [],
   "source": [
    "import pandas as pd\n",
    "import numpy as np\n",
    "import matplotlib.pyplot as plt\n",
    "import scipy as sp\n",
    "import sklearn as sk\n",
    "import warnings\n",
    "warnings.filterwarnings('ignore')"
   ]
  },
  {
   "cell_type": "code",
   "execution_count": 2,
   "metadata": {
    "collapsed": true
   },
   "outputs": [],
   "source": [
    "train_data = pd.read_csv('Train_v2.csv')\n",
    "test_data = pd.read_csv('Test_v2.csv')\n",
    "variable_defination = pd.read_csv('VariableDefinitions.csv')"
   ]
  },
  {
   "cell_type": "code",
   "execution_count": 3,
   "metadata": {},
   "outputs": [
    {
     "name": "stdout",
     "output_type": "stream",
     "text": [
      "<class 'pandas.core.frame.DataFrame'>\n",
      "RangeIndex: 10086 entries, 0 to 10085\n",
      "Data columns (total 12 columns):\n",
      "country                   10086 non-null object\n",
      "year                      10086 non-null int64\n",
      "uniqueid                  10086 non-null object\n",
      "location_type             10086 non-null object\n",
      "cellphone_access          10086 non-null object\n",
      "household_size            10086 non-null int64\n",
      "age_of_respondent         10086 non-null int64\n",
      "gender_of_respondent      10086 non-null object\n",
      "relationship_with_head    10086 non-null object\n",
      "marital_status            10086 non-null object\n",
      "education_level           10086 non-null object\n",
      "job_type                  10086 non-null object\n",
      "dtypes: int64(3), object(9)\n",
      "memory usage: 945.6+ KB\n"
     ]
    }
   ],
   "source": [
    "test_data.info()"
   ]
  },
  {
   "cell_type": "code",
   "execution_count": 4,
   "metadata": {},
   "outputs": [
    {
     "data": {
      "text/html": [
       "<div>\n",
       "<style>\n",
       "    .dataframe thead tr:only-child th {\n",
       "        text-align: right;\n",
       "    }\n",
       "\n",
       "    .dataframe thead th {\n",
       "        text-align: left;\n",
       "    }\n",
       "\n",
       "    .dataframe tbody tr th {\n",
       "        vertical-align: top;\n",
       "    }\n",
       "</style>\n",
       "<table border=\"1\" class=\"dataframe\">\n",
       "  <thead>\n",
       "    <tr style=\"text-align: right;\">\n",
       "      <th></th>\n",
       "      <th>country</th>\n",
       "      <th>year</th>\n",
       "      <th>uniqueid</th>\n",
       "      <th>bank_account</th>\n",
       "      <th>location_type</th>\n",
       "      <th>cellphone_access</th>\n",
       "      <th>household_size</th>\n",
       "      <th>age_of_respondent</th>\n",
       "      <th>gender_of_respondent</th>\n",
       "      <th>relationship_with_head</th>\n",
       "      <th>marital_status</th>\n",
       "      <th>education_level</th>\n",
       "      <th>job_type</th>\n",
       "    </tr>\n",
       "  </thead>\n",
       "  <tbody>\n",
       "    <tr>\n",
       "      <th>0</th>\n",
       "      <td>Kenya</td>\n",
       "      <td>2018</td>\n",
       "      <td>uniqueid_1</td>\n",
       "      <td>Yes</td>\n",
       "      <td>Rural</td>\n",
       "      <td>Yes</td>\n",
       "      <td>3</td>\n",
       "      <td>24</td>\n",
       "      <td>Female</td>\n",
       "      <td>Spouse</td>\n",
       "      <td>Married/Living together</td>\n",
       "      <td>Secondary education</td>\n",
       "      <td>Self employed</td>\n",
       "    </tr>\n",
       "    <tr>\n",
       "      <th>1</th>\n",
       "      <td>Kenya</td>\n",
       "      <td>2018</td>\n",
       "      <td>uniqueid_2</td>\n",
       "      <td>No</td>\n",
       "      <td>Rural</td>\n",
       "      <td>No</td>\n",
       "      <td>5</td>\n",
       "      <td>70</td>\n",
       "      <td>Female</td>\n",
       "      <td>Head of Household</td>\n",
       "      <td>Widowed</td>\n",
       "      <td>No formal education</td>\n",
       "      <td>Government Dependent</td>\n",
       "    </tr>\n",
       "    <tr>\n",
       "      <th>2</th>\n",
       "      <td>Kenya</td>\n",
       "      <td>2018</td>\n",
       "      <td>uniqueid_3</td>\n",
       "      <td>Yes</td>\n",
       "      <td>Urban</td>\n",
       "      <td>Yes</td>\n",
       "      <td>5</td>\n",
       "      <td>26</td>\n",
       "      <td>Male</td>\n",
       "      <td>Other relative</td>\n",
       "      <td>Single/Never Married</td>\n",
       "      <td>Vocational/Specialised training</td>\n",
       "      <td>Self employed</td>\n",
       "    </tr>\n",
       "    <tr>\n",
       "      <th>3</th>\n",
       "      <td>Kenya</td>\n",
       "      <td>2018</td>\n",
       "      <td>uniqueid_4</td>\n",
       "      <td>No</td>\n",
       "      <td>Rural</td>\n",
       "      <td>Yes</td>\n",
       "      <td>5</td>\n",
       "      <td>34</td>\n",
       "      <td>Female</td>\n",
       "      <td>Head of Household</td>\n",
       "      <td>Married/Living together</td>\n",
       "      <td>Primary education</td>\n",
       "      <td>Formally employed Private</td>\n",
       "    </tr>\n",
       "    <tr>\n",
       "      <th>4</th>\n",
       "      <td>Kenya</td>\n",
       "      <td>2018</td>\n",
       "      <td>uniqueid_5</td>\n",
       "      <td>No</td>\n",
       "      <td>Urban</td>\n",
       "      <td>No</td>\n",
       "      <td>8</td>\n",
       "      <td>26</td>\n",
       "      <td>Male</td>\n",
       "      <td>Child</td>\n",
       "      <td>Single/Never Married</td>\n",
       "      <td>Primary education</td>\n",
       "      <td>Informally employed</td>\n",
       "    </tr>\n",
       "  </tbody>\n",
       "</table>\n",
       "</div>"
      ],
      "text/plain": [
       "  country  year    uniqueid bank_account location_type cellphone_access  \\\n",
       "0   Kenya  2018  uniqueid_1          Yes         Rural              Yes   \n",
       "1   Kenya  2018  uniqueid_2           No         Rural               No   \n",
       "2   Kenya  2018  uniqueid_3          Yes         Urban              Yes   \n",
       "3   Kenya  2018  uniqueid_4           No         Rural              Yes   \n",
       "4   Kenya  2018  uniqueid_5           No         Urban               No   \n",
       "\n",
       "   household_size  age_of_respondent gender_of_respondent  \\\n",
       "0               3                 24               Female   \n",
       "1               5                 70               Female   \n",
       "2               5                 26                 Male   \n",
       "3               5                 34               Female   \n",
       "4               8                 26                 Male   \n",
       "\n",
       "  relationship_with_head           marital_status  \\\n",
       "0                 Spouse  Married/Living together   \n",
       "1      Head of Household                  Widowed   \n",
       "2         Other relative     Single/Never Married   \n",
       "3      Head of Household  Married/Living together   \n",
       "4                  Child     Single/Never Married   \n",
       "\n",
       "                   education_level                   job_type  \n",
       "0              Secondary education              Self employed  \n",
       "1              No formal education       Government Dependent  \n",
       "2  Vocational/Specialised training              Self employed  \n",
       "3                Primary education  Formally employed Private  \n",
       "4                Primary education        Informally employed  "
      ]
     },
     "execution_count": 4,
     "metadata": {},
     "output_type": "execute_result"
    }
   ],
   "source": [
    "train_data.head()"
   ]
  },
  {
   "cell_type": "code",
   "execution_count": 5,
   "metadata": {},
   "outputs": [
    {
     "name": "stdout",
     "output_type": "stream",
     "text": [
      "<class 'pandas.core.frame.DataFrame'>\n",
      "RangeIndex: 23524 entries, 0 to 23523\n",
      "Data columns (total 13 columns):\n",
      "country                   23524 non-null object\n",
      "year                      23524 non-null int64\n",
      "uniqueid                  23524 non-null object\n",
      "bank_account              23524 non-null object\n",
      "location_type             23524 non-null object\n",
      "cellphone_access          23524 non-null object\n",
      "household_size            23524 non-null int64\n",
      "age_of_respondent         23524 non-null int64\n",
      "gender_of_respondent      23524 non-null object\n",
      "relationship_with_head    23524 non-null object\n",
      "marital_status            23524 non-null object\n",
      "education_level           23524 non-null object\n",
      "job_type                  23524 non-null object\n",
      "dtypes: int64(3), object(10)\n",
      "memory usage: 2.3+ MB\n"
     ]
    }
   ],
   "source": [
    "train_data.info()"
   ]
  },
  {
   "cell_type": "code",
   "execution_count": 6,
   "metadata": {},
   "outputs": [
    {
     "data": {
      "text/plain": [
       "array(['Kenya', 'Rwanda', 'Tanzania', 'Uganda'], dtype=object)"
      ]
     },
     "execution_count": 6,
     "metadata": {},
     "output_type": "execute_result"
    }
   ],
   "source": [
    "np.unique(train_data['country'])"
   ]
  },
  {
   "cell_type": "code",
   "execution_count": 7,
   "metadata": {
    "collapsed": true
   },
   "outputs": [],
   "source": [
    "train_update = pd.get_dummies(train_data, columns = ['country'])"
   ]
  },
  {
   "cell_type": "code",
   "execution_count": 8,
   "metadata": {},
   "outputs": [
    {
     "name": "stdout",
     "output_type": "stream",
     "text": [
      "<class 'pandas.core.frame.DataFrame'>\n",
      "RangeIndex: 23524 entries, 0 to 23523\n",
      "Data columns (total 16 columns):\n",
      "year                      23524 non-null int64\n",
      "uniqueid                  23524 non-null object\n",
      "bank_account              23524 non-null object\n",
      "location_type             23524 non-null object\n",
      "cellphone_access          23524 non-null object\n",
      "household_size            23524 non-null int64\n",
      "age_of_respondent         23524 non-null int64\n",
      "gender_of_respondent      23524 non-null object\n",
      "relationship_with_head    23524 non-null object\n",
      "marital_status            23524 non-null object\n",
      "education_level           23524 non-null object\n",
      "job_type                  23524 non-null object\n",
      "country_Kenya             23524 non-null uint8\n",
      "country_Rwanda            23524 non-null uint8\n",
      "country_Tanzania          23524 non-null uint8\n",
      "country_Uganda            23524 non-null uint8\n",
      "dtypes: int64(3), object(9), uint8(4)\n",
      "memory usage: 2.2+ MB\n"
     ]
    }
   ],
   "source": [
    "train_update.info()"
   ]
  },
  {
   "cell_type": "code",
   "execution_count": 9,
   "metadata": {},
   "outputs": [
    {
     "data": {
      "text/plain": [
       "array([2016, 2017, 2018], dtype=int64)"
      ]
     },
     "execution_count": 9,
     "metadata": {},
     "output_type": "execute_result"
    }
   ],
   "source": [
    "np.unique(train_update['year'])"
   ]
  },
  {
   "cell_type": "code",
   "execution_count": 10,
   "metadata": {
    "collapsed": true
   },
   "outputs": [],
   "source": [
    "train_update['year'][train_update['year']==2016] = 0\n",
    "train_update['year'][train_update['year'] == 2017] = 1\n",
    "train_update['year'][train_update['year']== 2018] = 2"
   ]
  },
  {
   "cell_type": "code",
   "execution_count": 11,
   "metadata": {},
   "outputs": [
    {
     "data": {
      "text/plain": [
       "array([0, 1, 2], dtype=int64)"
      ]
     },
     "execution_count": 11,
     "metadata": {},
     "output_type": "execute_result"
    }
   ],
   "source": [
    "np.unique(train_update['year'])"
   ]
  },
  {
   "cell_type": "code",
   "execution_count": 12,
   "metadata": {},
   "outputs": [
    {
     "data": {
      "text/plain": [
       "8735"
      ]
     },
     "execution_count": 12,
     "metadata": {},
     "output_type": "execute_result"
    }
   ],
   "source": [
    "len(np.unique(train_update['uniqueid']))"
   ]
  },
  {
   "cell_type": "code",
   "execution_count": 13,
   "metadata": {},
   "outputs": [
    {
     "data": {
      "text/plain": [
       "array(['No', 'Yes'], dtype=object)"
      ]
     },
     "execution_count": 13,
     "metadata": {},
     "output_type": "execute_result"
    }
   ],
   "source": [
    "np.unique(train_update['bank_account'])"
   ]
  },
  {
   "cell_type": "code",
   "execution_count": 14,
   "metadata": {
    "collapsed": true
   },
   "outputs": [],
   "source": [
    "train_update['bank_account'][train_update['bank_account']=='No'] = 0\n",
    "train_update['bank_account'][train_update['bank_account']=='Yes'] = 1\n",
    "\n",
    "\n",
    "\n",
    "target = train_update['bank_account']\n",
    "train_update = train_update.drop('bank_account', axis = 1)"
   ]
  },
  {
   "cell_type": "code",
   "execution_count": 15,
   "metadata": {},
   "outputs": [
    {
     "data": {
      "text/plain": [
       "0    1\n",
       "1    0\n",
       "Name: bank_account, dtype: object"
      ]
     },
     "execution_count": 15,
     "metadata": {},
     "output_type": "execute_result"
    }
   ],
   "source": [
    "target[:2]"
   ]
  },
  {
   "cell_type": "code",
   "execution_count": 16,
   "metadata": {},
   "outputs": [
    {
     "name": "stdout",
     "output_type": "stream",
     "text": [
      "<class 'pandas.core.frame.DataFrame'>\n",
      "RangeIndex: 23524 entries, 0 to 23523\n",
      "Data columns (total 15 columns):\n",
      "year                      23524 non-null int64\n",
      "uniqueid                  23524 non-null object\n",
      "location_type             23524 non-null object\n",
      "cellphone_access          23524 non-null object\n",
      "household_size            23524 non-null int64\n",
      "age_of_respondent         23524 non-null int64\n",
      "gender_of_respondent      23524 non-null object\n",
      "relationship_with_head    23524 non-null object\n",
      "marital_status            23524 non-null object\n",
      "education_level           23524 non-null object\n",
      "job_type                  23524 non-null object\n",
      "country_Kenya             23524 non-null uint8\n",
      "country_Rwanda            23524 non-null uint8\n",
      "country_Tanzania          23524 non-null uint8\n",
      "country_Uganda            23524 non-null uint8\n",
      "dtypes: int64(3), object(8), uint8(4)\n",
      "memory usage: 2.1+ MB\n"
     ]
    }
   ],
   "source": [
    "train_update.info()"
   ]
  },
  {
   "cell_type": "code",
   "execution_count": 17,
   "metadata": {},
   "outputs": [
    {
     "data": {
      "text/plain": [
       "array(['Rural', 'Urban'], dtype=object)"
      ]
     },
     "execution_count": 17,
     "metadata": {},
     "output_type": "execute_result"
    }
   ],
   "source": [
    "np.unique(train_update['location_type'])"
   ]
  },
  {
   "cell_type": "code",
   "execution_count": 18,
   "metadata": {
    "collapsed": true
   },
   "outputs": [],
   "source": [
    "train_update['location_type'][train_update['location_type'] == 'Urban'] = 1\n",
    "train_update['location_type'][train_update['location_type'] == 'Rural'] = 0"
   ]
  },
  {
   "cell_type": "code",
   "execution_count": 19,
   "metadata": {},
   "outputs": [
    {
     "data": {
      "text/plain": [
       "array(['No', 'Yes'], dtype=object)"
      ]
     },
     "execution_count": 19,
     "metadata": {},
     "output_type": "execute_result"
    }
   ],
   "source": [
    "np.unique(train_update['cellphone_access'])"
   ]
  },
  {
   "cell_type": "code",
   "execution_count": 20,
   "metadata": {
    "collapsed": true
   },
   "outputs": [],
   "source": [
    "train_update['cellphone_access'][train_update['cellphone_access']=='Yes'] = 1\n",
    "train_update['cellphone_access'][train_update['cellphone_access'] == 'No'] = 0"
   ]
  },
  {
   "cell_type": "code",
   "execution_count": 21,
   "metadata": {},
   "outputs": [
    {
     "data": {
      "text/plain": [
       "array(['Female', 'Male'], dtype=object)"
      ]
     },
     "execution_count": 21,
     "metadata": {},
     "output_type": "execute_result"
    }
   ],
   "source": [
    "np.unique(train_update['gender_of_respondent'])"
   ]
  },
  {
   "cell_type": "code",
   "execution_count": 22,
   "metadata": {
    "collapsed": true
   },
   "outputs": [],
   "source": [
    "train_update = pd.get_dummies(train_update, columns = ['gender_of_respondent'])"
   ]
  },
  {
   "cell_type": "code",
   "execution_count": 23,
   "metadata": {},
   "outputs": [
    {
     "name": "stdout",
     "output_type": "stream",
     "text": [
      "<class 'pandas.core.frame.DataFrame'>\n",
      "RangeIndex: 23524 entries, 0 to 23523\n",
      "Data columns (total 16 columns):\n",
      "year                           23524 non-null int64\n",
      "uniqueid                       23524 non-null object\n",
      "location_type                  23524 non-null object\n",
      "cellphone_access               23524 non-null object\n",
      "household_size                 23524 non-null int64\n",
      "age_of_respondent              23524 non-null int64\n",
      "relationship_with_head         23524 non-null object\n",
      "marital_status                 23524 non-null object\n",
      "education_level                23524 non-null object\n",
      "job_type                       23524 non-null object\n",
      "country_Kenya                  23524 non-null uint8\n",
      "country_Rwanda                 23524 non-null uint8\n",
      "country_Tanzania               23524 non-null uint8\n",
      "country_Uganda                 23524 non-null uint8\n",
      "gender_of_respondent_Female    23524 non-null uint8\n",
      "gender_of_respondent_Male      23524 non-null uint8\n",
      "dtypes: int64(3), object(7), uint8(6)\n",
      "memory usage: 1.9+ MB\n"
     ]
    }
   ],
   "source": [
    "train_update.info()"
   ]
  },
  {
   "cell_type": "code",
   "execution_count": 24,
   "metadata": {},
   "outputs": [
    {
     "data": {
      "text/plain": [
       "array(['Child', 'Head of Household', 'Other non-relatives',\n",
       "       'Other relative', 'Parent', 'Spouse'], dtype=object)"
      ]
     },
     "execution_count": 24,
     "metadata": {},
     "output_type": "execute_result"
    }
   ],
   "source": [
    "np.unique(train_update['relationship_with_head'])"
   ]
  },
  {
   "cell_type": "code",
   "execution_count": 30,
   "metadata": {},
   "outputs": [],
   "source": [
    "train_update =pd.get_dummies(train_update, columns = ['relationship_with_head'])"
   ]
  },
  {
   "cell_type": "code",
   "execution_count": 26,
   "metadata": {},
   "outputs": [
    {
     "data": {
      "text/plain": [
       "array(['Divorced/Seperated', 'Dont know', 'Married/Living together',\n",
       "       'Single/Never Married', 'Widowed'], dtype=object)"
      ]
     },
     "execution_count": 26,
     "metadata": {},
     "output_type": "execute_result"
    }
   ],
   "source": [
    "np.unique(train_update['marital_status'])"
   ]
  },
  {
   "cell_type": "code",
   "execution_count": 31,
   "metadata": {
    "collapsed": true
   },
   "outputs": [],
   "source": [
    "train_update['marital_status'][train_update['marital_status'] == 'Married/Living together'] = 0\n",
    "train_update['marital_status'][train_update['marital_status'] == 'Single/Never Married'] = 1\n",
    "train_update['marital_status'][train_update['marital_status'] == 'Widowed'] = 2\n",
    "train_update['marital_status'][train_update['marital_status'] == 'Divorced/Separated'] = 3\n",
    "train_update['marital_status'][train_update['marital_status'] == 'Dont know'] = 4"
   ]
  },
  {
   "cell_type": "code",
   "execution_count": 27,
   "metadata": {},
   "outputs": [
    {
     "data": {
      "text/plain": [
       "array(['No formal education', 'Other/Dont know/RTA', 'Primary education',\n",
       "       'Secondary education', 'Tertiary education',\n",
       "       'Vocational/Specialised training'], dtype=object)"
      ]
     },
     "execution_count": 27,
     "metadata": {},
     "output_type": "execute_result"
    }
   ],
   "source": [
    "np.unique(train_update['education_level'])"
   ]
  },
  {
   "cell_type": "code",
   "execution_count": 32,
   "metadata": {
    "collapsed": true
   },
   "outputs": [],
   "source": [
    "train_update['education_level'][train_update['education_level'] == 'Tertiary education'] = 0\n",
    "train_update['education_level'][train_update['education_level'] == 'Secondary education'] = 1\n",
    "train_update['education_level'][train_update['education_level'] == 'Primary education'] = 2\n",
    "train_update['education_level'][train_update['education_level'] == 'No formal education'] = 3\n",
    "train_update['education_level'][train_update['education_level'] == 'Vocational/Specialised training'] = 4\n"
   ]
  },
  {
   "cell_type": "code",
   "execution_count": 28,
   "metadata": {},
   "outputs": [
    {
     "data": {
      "text/plain": [
       "array(['Dont Know/Refuse to answer', 'Farming and Fishing',\n",
       "       'Formally employed Government', 'Formally employed Private',\n",
       "       'Government Dependent', 'Informally employed', 'No Income',\n",
       "       'Other Income', 'Remittance Dependent', 'Self employed'], dtype=object)"
      ]
     },
     "execution_count": 28,
     "metadata": {},
     "output_type": "execute_result"
    }
   ],
   "source": [
    "np.unique(train_update['job_type'])"
   ]
  },
  {
   "cell_type": "code",
   "execution_count": null,
   "metadata": {
    "collapsed": true
   },
   "outputs": [],
   "source": [
    "train_update['job_type'][train_update['job_type'] == 'Formally employed Private'] = 0\n",
    "train_update['job_type'][train_update['job_type'] == 'Formally employed Government'] = 1\n"
   ]
  }
 ],
 "metadata": {
  "kernelspec": {
   "display_name": "Python 3",
   "language": "python",
   "name": "python3"
  },
  "language_info": {
   "codemirror_mode": {
    "name": "ipython",
    "version": 3
   },
   "file_extension": ".py",
   "mimetype": "text/x-python",
   "name": "python",
   "nbconvert_exporter": "python",
   "pygments_lexer": "ipython3",
   "version": "3.6.1"
  }
 },
 "nbformat": 4,
 "nbformat_minor": 2
}
