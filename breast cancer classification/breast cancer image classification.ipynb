{
 "cells": [
  {
   "cell_type": "code",
   "execution_count": 1,
   "metadata": {},
   "outputs": [
    {
     "name": "stderr",
     "output_type": "stream",
     "text": [
      "Using TensorFlow backend.\n"
     ]
    }
   ],
   "source": [
    "import pandas as pd\n",
    "import numpy as np\n",
    "import sklearn as sk\n",
    "import matplotlib.pyplot as plt\n",
    "import scipy as sp\n",
    "import keras\n",
    "import tensorflow as tf"
   ]
  },
  {
   "cell_type": "code",
   "execution_count": 2,
   "metadata": {},
   "outputs": [
    {
     "data": {
      "text/plain": [
       "['.ipynb_checkpoints',\n",
       " 'breast cancer',\n",
       " 'breast cancer image classification.ipynb',\n",
       " 'Dataset_BUSI_with_GT']"
      ]
     },
     "execution_count": 2,
     "metadata": {},
     "output_type": "execute_result"
    }
   ],
   "source": [
    "import os, sys\n",
    "os.listdir()"
   ]
  },
  {
   "cell_type": "code",
   "execution_count": 3,
   "metadata": {},
   "outputs": [],
   "source": [
    "directory = os.getcwd()\n"
   ]
  },
  {
   "cell_type": "code",
   "execution_count": 4,
   "metadata": {},
   "outputs": [
    {
     "data": {
      "text/plain": [
       "['benign', 'malignant', 'normal']"
      ]
     },
     "execution_count": 4,
     "metadata": {},
     "output_type": "execute_result"
    }
   ],
   "source": [
    "new_directory = directory + '\\\\'+ os.listdir()[-1]\n",
    "os.chdir(new_directory)\n",
    "os.listdir()"
   ]
  },
  {
   "cell_type": "code",
   "execution_count": 10,
   "metadata": {},
   "outputs": [
    {
     "data": {
      "text/plain": [
       "'C:\\\\Users\\\\user\\\\Desktop\\\\Dataset_BUSI\\\\Dataset_BUSI_with_GT'"
      ]
     },
     "execution_count": 10,
     "metadata": {},
     "output_type": "execute_result"
    }
   ],
   "source": [
    "os.chdir('C:\\\\Users\\\\user\\\\Desktop\\\\Dataset_BUSI\\\\Dataset_BUSI_with_GT')\n",
    "default = os.getcwd()\n",
    "default"
   ]
  },
  {
   "cell_type": "code",
   "execution_count": 14,
   "metadata": {
    "scrolled": true
   },
   "outputs": [],
   "source": [
    "train_image = []\n",
    "test_image = []\n",
    "\n",
    "# get list of all data points\n",
    "\n",
    "def get_zip():\n",
    "    default_directory = os.getcwd()\n",
    "    concat_directories = default + '\\\\benign'\n",
    "    os.chdir(concat_directories)\n",
    "    zero_lists = [x for x in os.listdir()]\n",
    "    os.chdir(default_directory)\n",
    "    \n",
    "    default_directory = os.getcwd()\n",
    "    concat_directories = default + '\\\\malignant'\n",
    "    os.chdir(concat_directories)\n",
    "    ones_lists = [x for x in os.listdir()]\n",
    "    os.chdir(default_directory)\n",
    "    \n",
    "    default_directory = os.getcwd()\n",
    "    concat_directories = default + '\\\\normal'\n",
    "    os.chdir(concat_directories)\n",
    "    twos_lists = [x for x in os.listdir()]\n",
    "    os.chdir(default_directory)\n",
    "    \n",
    "    \n",
    "    return zero_lists, ones_lists, twos_lists\n",
    "\n",
    "list_of_zeros, list_of_ones, list_of_twos= get_zip()"
   ]
  },
  {
   "cell_type": "code",
   "execution_count": 15,
   "metadata": {
    "scrolled": true
   },
   "outputs": [
    {
     "data": {
      "text/plain": [
       "(891, 421, 266)"
      ]
     },
     "execution_count": 15,
     "metadata": {},
     "output_type": "execute_result"
    }
   ],
   "source": [
    "len(list_of_zeros), len(list_of_ones),  len(list_of_twos)"
   ]
  },
  {
   "cell_type": "code",
   "execution_count": 24,
   "metadata": {},
   "outputs": [],
   "source": [
    "import keras\n",
    "from keras.preprocessing import image\n",
    "default_directory = default\n",
    "\n",
    "train_images = []\n",
    "train_target = []\n",
    "\n",
    "\n",
    "for i in list_of_zeros:\n",
    "    directory = default_directory + '\\\\' + 'benign' + '\\\\' + i\n",
    "    img = image.load_img(directory, target_size = (200,150), grayscale = False)\n",
    "    img=image.img_to_array(img)\n",
    "    img = img/255\n",
    "    train_images.append(img)\n",
    "    os.chdir(default_directory)\n",
    "    train_target.append(0)\n",
    "    \n",
    "for i in list_of_ones:\n",
    "    directory = default_directory + '\\\\' + 'malignant' + '\\\\' + i\n",
    "    img = image.load_img(directory, target_size = (200,150), grayscale = False)\n",
    "    img =image.img_to_array(img)\n",
    "    img = img/255\n",
    "    train_images.append(img)\n",
    "    os.chdir(default_directory)\n",
    "    train_target.append(1)\n",
    "    \n",
    "for i in list_of_twos:\n",
    "    directory = default_directory + '\\\\' + 'normal' + '\\\\' + i\n",
    "    img = image.load_img(directory, target_size = (200,150), grayscale = False)\n",
    "    img =image.img_to_array(img)\n",
    "    img = img/255\n",
    "    train_images.append(img)\n",
    "    os.chdir(default_directory)\n",
    "    train_target.append(2)"
   ]
  },
  {
   "cell_type": "code",
   "execution_count": 25,
   "metadata": {},
   "outputs": [
    {
     "data": {
      "text/plain": [
       "(1578, 1578)"
      ]
     },
     "execution_count": 25,
     "metadata": {},
     "output_type": "execute_result"
    }
   ],
   "source": [
    "len(train_images),len(train_target)"
   ]
  },
  {
   "cell_type": "code",
   "execution_count": 26,
   "metadata": {},
   "outputs": [],
   "source": [
    "X = np.array(train_images)\n",
    "y = np.array(train_target)\n",
    "from sklearn.model_selection import train_test_split\n",
    "X_train, X_test, y_train, y_test = train_test_split(X, y, random_state = 42, test_size = 0.2, stratify = y)"
   ]
  },
  {
   "cell_type": "code",
   "execution_count": 27,
   "metadata": {},
   "outputs": [],
   "source": [
    "from keras import models\n",
    "from keras import layers\n",
    "from keras.layers import Conv2D, MaxPooling2D, Dropout, Flatten, Dense\n"
   ]
  },
  {
   "cell_type": "code",
   "execution_count": 28,
   "metadata": {},
   "outputs": [
    {
     "data": {
      "text/plain": [
       "(200, 150, 3)"
      ]
     },
     "execution_count": 28,
     "metadata": {},
     "output_type": "execute_result"
    }
   ],
   "source": [
    "X_train[0].shape"
   ]
  },
  {
   "cell_type": "code",
   "execution_count": 30,
   "metadata": {},
   "outputs": [
    {
     "name": "stdout",
     "output_type": "stream",
     "text": [
      "WARNING:tensorflow:From C:\\Users\\user\\Anaconda3\\lib\\site-packages\\keras\\backend\\tensorflow_backend.py:74: The name tf.get_default_graph is deprecated. Please use tf.compat.v1.get_default_graph instead.\n",
      "\n",
      "WARNING:tensorflow:From C:\\Users\\user\\Anaconda3\\lib\\site-packages\\keras\\backend\\tensorflow_backend.py:517: The name tf.placeholder is deprecated. Please use tf.compat.v1.placeholder instead.\n",
      "\n",
      "WARNING:tensorflow:From C:\\Users\\user\\Anaconda3\\lib\\site-packages\\keras\\backend\\tensorflow_backend.py:4138: The name tf.random_uniform is deprecated. Please use tf.random.uniform instead.\n",
      "\n",
      "WARNING:tensorflow:From C:\\Users\\user\\Anaconda3\\lib\\site-packages\\keras\\backend\\tensorflow_backend.py:3976: The name tf.nn.max_pool is deprecated. Please use tf.nn.max_pool2d instead.\n",
      "\n",
      "WARNING:tensorflow:From C:\\Users\\user\\Anaconda3\\lib\\site-packages\\keras\\backend\\tensorflow_backend.py:133: The name tf.placeholder_with_default is deprecated. Please use tf.compat.v1.placeholder_with_default instead.\n",
      "\n",
      "WARNING:tensorflow:From C:\\Users\\user\\Anaconda3\\lib\\site-packages\\keras\\backend\\tensorflow_backend.py:3445: calling dropout (from tensorflow.python.ops.nn_ops) with keep_prob is deprecated and will be removed in a future version.\n",
      "Instructions for updating:\n",
      "Please use `rate` instead of `keep_prob`. Rate should be set to `rate = 1 - keep_prob`.\n"
     ]
    }
   ],
   "source": [
    "model =models.Sequential()\n",
    "model.add(Conv2D(32, kernel_size = (3,3), activation = 'relu', input_shape = (200,150,3)))\n",
    "model.add(MaxPooling2D(pool_size = (2,2)))\n",
    "model.add(Conv2D(64, (3,3), activation = 'relu'))\n",
    "model.add(MaxPooling2D(pool_size = (2,2)))\n",
    "model.add(Dropout(0.25))\n",
    "model.add(Flatten())\n",
    "model.add(Dense(400, activation = 'relu'))\n",
    "model.add(Dropout(0.25))\n",
    "model.add(Dense(3, activation = 'softmax'))"
   ]
  },
  {
   "cell_type": "code",
   "execution_count": 31,
   "metadata": {},
   "outputs": [
    {
     "name": "stdout",
     "output_type": "stream",
     "text": [
      "WARNING:tensorflow:From C:\\Users\\user\\Anaconda3\\lib\\site-packages\\keras\\optimizers.py:790: The name tf.train.Optimizer is deprecated. Please use tf.compat.v1.train.Optimizer instead.\n",
      "\n",
      "WARNING:tensorflow:From C:\\Users\\user\\Anaconda3\\lib\\site-packages\\keras\\backend\\tensorflow_backend.py:3295: The name tf.log is deprecated. Please use tf.math.log instead.\n",
      "\n"
     ]
    }
   ],
   "source": [
    "model.compile(loss = 'categorical_crossentropy', optimizer = 'Adam', metrics = ['accuracy'])"
   ]
  },
  {
   "cell_type": "code",
   "execution_count": 32,
   "metadata": {},
   "outputs": [
    {
     "data": {
      "text/plain": [
       "((316,), (316, 200, 150, 3), (1262,), (1262, 200, 150, 3))"
      ]
     },
     "execution_count": 32,
     "metadata": {},
     "output_type": "execute_result"
    }
   ],
   "source": [
    "y_test.shape, X_test.shape, y_train.shape, X_train.shape"
   ]
  },
  {
   "cell_type": "code",
   "execution_count": 33,
   "metadata": {},
   "outputs": [
    {
     "data": {
      "text/plain": [
       "(1262, 3)"
      ]
     },
     "execution_count": 33,
     "metadata": {},
     "output_type": "execute_result"
    }
   ],
   "source": [
    "from keras.utils import to_categorical\n",
    "test_case = to_categorical(y_train)\n",
    "test_test = to_categorical(y_test)\n",
    "test_case.shape"
   ]
  },
  {
   "cell_type": "code",
   "execution_count": 35,
   "metadata": {},
   "outputs": [
    {
     "name": "stdout",
     "output_type": "stream",
     "text": [
      "WARNING:tensorflow:From C:\\Users\\user\\Anaconda3\\lib\\site-packages\\tensorflow\\python\\ops\\math_grad.py:1250: add_dispatch_support.<locals>.wrapper (from tensorflow.python.ops.array_ops) is deprecated and will be removed in a future version.\n",
      "Instructions for updating:\n",
      "Use tf.where in 2.0, which has the same broadcast rule as np.where\n",
      "Train on 1262 samples, validate on 316 samples\n",
      "Epoch 1/10\n",
      "1262/1262 [==============================] - 1638s 1s/step - loss: 1.4895 - acc: 0.5357 - val_loss: 0.8582 - val_acc: 0.6519\n",
      "Epoch 2/10\n",
      "1262/1262 [==============================] - 1558s 1s/step - loss: 0.6290 - acc: 0.7464 - val_loss: 0.7865 - val_acc: 0.6835\n",
      "Epoch 3/10\n",
      "1262/1262 [==============================] - 1719s 1s/step - loss: 0.3938 - acc: 0.8431 - val_loss: 1.0226 - val_acc: 0.6867\n",
      "Epoch 4/10\n",
      "1262/1262 [==============================] - 1892s 1s/step - loss: 0.2274 - acc: 0.9223 - val_loss: 1.1384 - val_acc: 0.7089\n",
      "Epoch 5/10\n",
      "1262/1262 [==============================] - 2020s 2s/step - loss: 0.1317 - acc: 0.9572 - val_loss: 1.2072 - val_acc: 0.6677\n",
      "Epoch 6/10\n",
      "1262/1262 [==============================] - 1783s 1s/step - loss: 0.0619 - acc: 0.9834 - val_loss: 1.6909 - val_acc: 0.7089\n",
      "Epoch 7/10\n",
      "1262/1262 [==============================] - 1758s 1s/step - loss: 0.0279 - acc: 0.9929 - val_loss: 1.6509 - val_acc: 0.7089\n",
      "Epoch 8/10\n",
      "1262/1262 [==============================] - 1630s 1s/step - loss: 0.0169 - acc: 0.9976 - val_loss: 1.7762 - val_acc: 0.7120\n",
      "Epoch 9/10\n",
      "1262/1262 [==============================] - 1687s 1s/step - loss: 0.0133 - acc: 0.9968 - val_loss: 1.4569 - val_acc: 0.7120\n",
      "Epoch 10/10\n",
      "1262/1262 [==============================] - 1889s 1s/step - loss: 0.0156 - acc: 0.9968 - val_loss: 1.9468 - val_acc: 0.7215\n"
     ]
    }
   ],
   "source": [
    "H = model.fit(X_train, test_case, validation_data = (X_test, test_test), epochs = 10)"
   ]
  },
  {
   "cell_type": "code",
   "execution_count": 36,
   "metadata": {},
   "outputs": [],
   "source": [
    "model.save('breast_cancer.h5')"
   ]
  },
  {
   "cell_type": "code",
   "execution_count": 38,
   "metadata": {},
   "outputs": [],
   "source": [
    "# json string\n",
    "json_string = model.to_json()\n",
    "model.save('breast_cancer.json')"
   ]
  },
  {
   "cell_type": "code",
   "execution_count": 39,
   "metadata": {},
   "outputs": [],
   "source": [
    "# model weight\n",
    "model.save_weights('breast_cancer_weights.h5')"
   ]
  },
  {
   "cell_type": "code",
   "execution_count": 41,
   "metadata": {},
   "outputs": [],
   "source": [
    "# load weight\n",
    "model.load_weights('breast_cancer_weights.h5')"
   ]
  },
  {
   "cell_type": "code",
   "execution_count": null,
   "metadata": {},
   "outputs": [],
   "source": [
    "\"\"\"\n",
    "Assuming the original model looks like this\n",
    "model = Sequential()\n",
    "model.add(Dense(2, input_dim = 3, name = 'dense_1'))\n",
    "model.add(Dense(3, name = 'dense_2'))\n",
    ".....\n",
    "model.save_weights(fname)\n",
    "\"\"\"\n",
    "\n",
    "# new model\n",
    "model = Seqential()\n",
    "model.add(Dense(2, input_dim = 3, name = 'dense_1'))\n",
    "model.add(Dense(10, name = 'new_dense'))\n",
    "\n",
    "# load weights from first model; will only affect the first layer\n",
    "model.load_weights(fname, by_name = True)"
   ]
  },
  {
   "cell_type": "code",
   "execution_count": null,
   "metadata": {},
   "outputs": [],
   "source": [
    "# model recontruction from JSON\n",
    "from keras.models import model_from_json\n",
    "model = model_from_json(json_string)\n",
    "\n",
    "# model recontruction from YAML\n",
    "from keras.models import model_from_yaml\n",
    "model = model_from_yaml(yaml_string)"
   ]
  },
  {
   "cell_type": "markdown",
   "metadata": {},
   "source": [
    "# testing the model"
   ]
  },
  {
   "cell_type": "code",
   "execution_count": 4,
   "metadata": {},
   "outputs": [
    {
     "data": {
      "text/plain": [
       "['.ipynb_checkpoints',\n",
       " 'breast cancer',\n",
       " 'breast cancer image classification.ipynb',\n",
       " 'Dataset_BUSI_with_GT']"
      ]
     },
     "execution_count": 4,
     "metadata": {},
     "output_type": "execute_result"
    }
   ],
   "source": [
    "os.listdir()"
   ]
  },
  {
   "cell_type": "code",
   "execution_count": 5,
   "metadata": {},
   "outputs": [
    {
     "name": "stdout",
     "output_type": "stream",
     "text": [
      "WARNING:tensorflow:From C:\\Users\\user\\Anaconda3\\lib\\site-packages\\keras\\backend\\tensorflow_backend.py:517: The name tf.placeholder is deprecated. Please use tf.compat.v1.placeholder instead.\n",
      "\n",
      "WARNING:tensorflow:From C:\\Users\\user\\Anaconda3\\lib\\site-packages\\keras\\backend\\tensorflow_backend.py:4138: The name tf.random_uniform is deprecated. Please use tf.random.uniform instead.\n",
      "\n",
      "WARNING:tensorflow:From C:\\Users\\user\\Anaconda3\\lib\\site-packages\\keras\\backend\\tensorflow_backend.py:3976: The name tf.nn.max_pool is deprecated. Please use tf.nn.max_pool2d instead.\n",
      "\n",
      "WARNING:tensorflow:From C:\\Users\\user\\Anaconda3\\lib\\site-packages\\keras\\backend\\tensorflow_backend.py:131: The name tf.get_default_graph is deprecated. Please use tf.compat.v1.get_default_graph instead.\n",
      "\n",
      "WARNING:tensorflow:From C:\\Users\\user\\Anaconda3\\lib\\site-packages\\keras\\backend\\tensorflow_backend.py:133: The name tf.placeholder_with_default is deprecated. Please use tf.compat.v1.placeholder_with_default instead.\n",
      "\n",
      "WARNING:tensorflow:From C:\\Users\\user\\Anaconda3\\lib\\site-packages\\keras\\backend\\tensorflow_backend.py:3445: calling dropout (from tensorflow.python.ops.nn_ops) with keep_prob is deprecated and will be removed in a future version.\n",
      "Instructions for updating:\n",
      "Please use `rate` instead of `keep_prob`. Rate should be set to `rate = 1 - keep_prob`.\n",
      "WARNING:tensorflow:From C:\\Users\\user\\Anaconda3\\lib\\site-packages\\keras\\backend\\tensorflow_backend.py:174: The name tf.get_default_session is deprecated. Please use tf.compat.v1.get_default_session instead.\n",
      "\n",
      "WARNING:tensorflow:From C:\\Users\\user\\Anaconda3\\lib\\site-packages\\keras\\optimizers.py:790: The name tf.train.Optimizer is deprecated. Please use tf.compat.v1.train.Optimizer instead.\n",
      "\n",
      "WARNING:tensorflow:From C:\\Users\\user\\Anaconda3\\lib\\site-packages\\tensorflow\\python\\ops\\math_grad.py:1250: add_dispatch_support.<locals>.wrapper (from tensorflow.python.ops.array_ops) is deprecated and will be removed in a future version.\n",
      "Instructions for updating:\n",
      "Use tf.where in 2.0, which has the same broadcast rule as np.where\n"
     ]
    }
   ],
   "source": [
    "# from keras.models import load_model\n",
    "from keras.models import load_model\n",
    "model = load_model('breast cancer\\\\breast_cancer.h5')"
   ]
  },
  {
   "cell_type": "code",
   "execution_count": 12,
   "metadata": {},
   "outputs": [],
   "source": [
    "from keras.preprocessing import image\n",
    "arr = np.array([])\n",
    "classification_file = os.getcwd() + '\\\\Dataset_BUSI_with_GT\\\\benign\\\\benign (1).png'\n",
    "img = image.load_img(classification_file, target_size = (200,150,3), grayscale = False)\n",
    "img=image.img_to_array(img)\n",
    "img = img/255\n",
    "img = img.reshape((1,200,150,3))\n",
    "value = model.predict([img])"
   ]
  },
  {
   "cell_type": "code",
   "execution_count": 13,
   "metadata": {},
   "outputs": [
    {
     "data": {
      "text/plain": [
       "array([[9.9995112e-01, 4.8819031e-05, 1.0082737e-09]], dtype=float32)"
      ]
     },
     "execution_count": 13,
     "metadata": {},
     "output_type": "execute_result"
    }
   ],
   "source": [
    "value"
   ]
  },
  {
   "cell_type": "code",
   "execution_count": 14,
   "metadata": {},
   "outputs": [
    {
     "data": {
      "text/plain": [
       "array([[1., 0., 0.]], dtype=float32)"
      ]
     },
     "execution_count": 14,
     "metadata": {},
     "output_type": "execute_result"
    }
   ],
   "source": [
    "np.round(value)"
   ]
  },
  {
   "cell_type": "code",
   "execution_count": 17,
   "metadata": {},
   "outputs": [
    {
     "name": "stdout",
     "output_type": "stream",
     "text": [
      "0\n"
     ]
    }
   ],
   "source": [
    "count , update= 0,0\n",
    "for k in np.round(value)[0]:\n",
    "    if k == 1.0:\n",
    "        update = count\n",
    "        print(update)\n",
    "        break\n",
    "    else:\n",
    "        count += 1"
   ]
  },
  {
   "cell_type": "code",
   "execution_count": null,
   "metadata": {},
   "outputs": [],
   "source": [
    "if"
   ]
  }
 ],
 "metadata": {
  "kernelspec": {
   "display_name": "Python 3",
   "language": "python",
   "name": "python3"
  },
  "language_info": {
   "codemirror_mode": {
    "name": "ipython",
    "version": 3
   },
   "file_extension": ".py",
   "mimetype": "text/x-python",
   "name": "python",
   "nbconvert_exporter": "python",
   "pygments_lexer": "ipython3",
   "version": "3.7.3"
  }
 },
 "nbformat": 4,
 "nbformat_minor": 2
}
