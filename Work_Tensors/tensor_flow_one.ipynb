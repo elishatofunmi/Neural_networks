{
 "cells": [
  {
   "cell_type": "markdown",
   "metadata": {},
   "source": [
    "# Anatomy of a neural Network"
   ]
  },
  {
   "cell_type": "raw",
   "metadata": {},
   "source": [
    "layers, which combined into a network(or model)\n",
    "The input data and corresponding targets\n",
    "the loss function, which defines the feedback signal used for learning\n",
    "the optimizer, which determines how learning proceeds"
   ]
  },
  {
   "cell_type": "code",
   "execution_count": 1,
   "metadata": {},
   "outputs": [
    {
     "name": "stderr",
     "output_type": "stream",
     "text": [
      "Using TensorFlow backend.\n"
     ]
    }
   ],
   "source": [
    "# a dense layer with 32 output units, input shape = (784,)\n",
    "\n",
    "from keras import layers\n",
    "layer = layers.Dense(32, input_shape = (784,))"
   ]
  },
  {
   "cell_type": "code",
   "execution_count": 2,
   "metadata": {
    "collapsed": true
   },
   "outputs": [],
   "source": [
    "from keras import models\n",
    "from keras import layers\n",
    "\n",
    "model = models.Sequential()\n",
    "model.add(layers.Dense(32,input_shape = (784,)))\n",
    "model.add(layers.Dense(32)) # the second layer didn't receive an input shape argument\n",
    "#--instead, it automatically inferred its input shape as being the output shape of the layer\n",
    "# that came before\n"
   ]
  },
  {
   "cell_type": "raw",
   "metadata": {},
   "source": [
    "loss function(objective function) - The quantity that will be minimized during training. It represents a measure of success for the task at hand.\n",
    "Optimizer - Determines how the network will be updated based on the loss function. It implements a specific variant of stochastic gradient descent(SGD).\n",
    "A neural network that has multiple outputs may have multiple loss functions (one per output). But the gradient-descent process must be based on a single scaler loss value; so, for multiloss networks, all losses are combined (via averaging) into a single scalar quantity."
   ]
  },
  {
   "cell_type": "markdown",
   "metadata": {},
   "source": [
    "# deveoloping with keras: a quick overview"
   ]
  },
  {
   "cell_type": "raw",
   "metadata": {},
   "source": [
    "Define your training data: input tensors and target tensors\n",
    "Define a network of layers (or model) that maps your inputs to your targets.\n",
    "Configure the learning process by choosing a loss function, an optimizer, and some metrics to monitor.\n",
    "Iterate on your training data by calling the fit() method of your model.\n",
    "\n",
    "# sequential class or functional API"
   ]
  },
  {
   "cell_type": "code",
   "execution_count": 3,
   "metadata": {
    "scrolled": true
   },
   "outputs": [],
   "source": [
    "from keras import models\n",
    "from keras import layers\n",
    "\n",
    "model = models.Sequential()\n",
    "model.add(layers.Dense(32, activation = 'relu', input_shape = (784,)))\n",
    "model.add(layers.Dense(10, activation = 'softmax'))\n",
    "\n",
    "#input_tensor = layers.Input(shape = (784,))\n",
    "#x = layers.Dense(32, activation = 'relu', input_shape = (784,))\n",
    "#output_tensor = layers.Dense(10, activation = 'softmax')(x)\n",
    "\n",
    "#model = models.Model(inputs = input_tensor, outputs = output_tensor)\n"
   ]
  },
  {
   "cell_type": "code",
   "execution_count": 5,
   "metadata": {
    "collapsed": true
   },
   "outputs": [
    {
     "ename": "ImportError",
     "evalue": "cannot import name 'Optimizers'",
     "output_type": "error",
     "traceback": [
      "\u001b[1;31m---------------------------------------------------------------------------\u001b[0m",
      "\u001b[1;31mImportError\u001b[0m                               Traceback (most recent call last)",
      "\u001b[1;32m<ipython-input-5-232fddece5e1>\u001b[0m in \u001b[0;36m<module>\u001b[1;34m()\u001b[0m\n\u001b[1;32m----> 1\u001b[1;33m \u001b[1;32mfrom\u001b[0m \u001b[0mkeras\u001b[0m \u001b[1;32mimport\u001b[0m \u001b[0mOptimizers\u001b[0m\u001b[1;33m\u001b[0m\u001b[0m\n\u001b[0m\u001b[0;32m      2\u001b[0m \u001b[0mmodel\u001b[0m\u001b[1;33m.\u001b[0m\u001b[0mcompile\u001b[0m\u001b[1;33m(\u001b[0m\u001b[0moptimizer\u001b[0m \u001b[1;33m=\u001b[0m \u001b[0moptimizers\u001b[0m\u001b[1;33m.\u001b[0m\u001b[0mRMSprop\u001b[0m\u001b[1;33m(\u001b[0m\u001b[0mlr\u001b[0m \u001b[1;33m=\u001b[0m \u001b[1;36m0.001\u001b[0m\u001b[1;33m)\u001b[0m\u001b[1;33m,\u001b[0m \u001b[0mloss\u001b[0m \u001b[1;33m=\u001b[0m \u001b[1;34m'mse'\u001b[0m\u001b[1;33m,\u001b[0m \u001b[0mmetrics\u001b[0m \u001b[1;33m=\u001b[0m \u001b[1;33m[\u001b[0m\u001b[1;34m'accuracy'\u001b[0m\u001b[1;33m]\u001b[0m\u001b[1;33m)\u001b[0m\u001b[1;33m\u001b[0m\u001b[0m\n\u001b[0;32m      3\u001b[0m \u001b[0mmodel\u001b[0m\u001b[1;33m.\u001b[0m\u001b[0mfit\u001b[0m\u001b[1;33m(\u001b[0m\u001b[0minput_tensor\u001b[0m\u001b[1;33m,\u001b[0m \u001b[0mtarget_tensor\u001b[0m\u001b[1;33m,\u001b[0m \u001b[0mbatch_size\u001b[0m \u001b[1;33m=\u001b[0m \u001b[1;36m128\u001b[0m\u001b[1;33m,\u001b[0m \u001b[0mepoch\u001b[0m \u001b[1;33m=\u001b[0m \u001b[1;36m10\u001b[0m\u001b[1;33m)\u001b[0m\u001b[1;33m\u001b[0m\u001b[0m\n",
      "\u001b[1;31mImportError\u001b[0m: cannot import name 'Optimizers'"
     ]
    }
   ],
   "source": [
    "from keras import Optimizers\n",
    "model.compile(optimizer = optimizers.RMSprop(lr = 0.001), loss = 'mse', metrics = ['accuracy'])\n",
    "model.fit(input_tensor, target_tensor, batch_size = 128, epoch = 10)"
   ]
  },
  {
   "cell_type": "code",
   "execution_count": null,
   "metadata": {},
   "outputs": [],
   "source": []
  }
 ],
 "metadata": {
  "kernelspec": {
   "display_name": "Python 3",
   "language": "python",
   "name": "python3"
  },
  "language_info": {
   "codemirror_mode": {
    "name": "ipython",
    "version": 3
   },
   "file_extension": ".py",
   "mimetype": "text/x-python",
   "name": "python",
   "nbconvert_exporter": "python",
   "pygments_lexer": "ipython3",
   "version": "3.6.1"
  }
 },
 "nbformat": 4,
 "nbformat_minor": 2
}
