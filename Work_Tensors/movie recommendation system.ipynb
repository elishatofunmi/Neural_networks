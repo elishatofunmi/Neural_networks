{
 "cells": [
  {
   "cell_type": "code",
   "execution_count": 3,
   "metadata": {},
   "outputs": [],
   "source": [
    "from sklearn.datasets import samples_generator\n",
    "from sklearn.feature_selection import SelectKBest, f_regression\n",
    "from sklearn.pipeline import Pipeline\n",
    "from sklearn.ensemble import ExtraTreesClassifier"
   ]
  },
  {
   "cell_type": "code",
   "execution_count": 5,
   "metadata": {},
   "outputs": [],
   "source": [
    "# generate data\n",
    "x, y = samples_generator.make_classification(n_samples = 150,\n",
    "                                           n_features = 25, n_classes = 3,\n",
    "                                           n_informative = 6, n_redundant = 0,\n",
    "                                           random_state = 7)"
   ]
  },
  {
   "cell_type": "code",
   "execution_count": 6,
   "metadata": {
    "collapsed": true
   },
   "outputs": [],
   "source": [
    "# select top k feature\n",
    "k_best_selector = SelectKBest(f_regression, k = 9)\n"
   ]
  },
  {
   "cell_type": "code",
   "execution_count": 7,
   "metadata": {
    "collapsed": true
   },
   "outputs": [],
   "source": [
    "# initialize Extremely random forest classifier\n",
    "classifier = ExtraTreesClassifier(n_estimators = 60, max_depth = 4)\n"
   ]
  },
  {
   "cell_type": "code",
   "execution_count": 9,
   "metadata": {},
   "outputs": [],
   "source": [
    "# construct the pipeline \n",
    "process_pipeline = Pipeline([('selector', k_best_selector), ('erf', classifier)])"
   ]
  },
  {
   "cell_type": "code",
   "execution_count": 11,
   "metadata": {},
   "outputs": [
    {
     "name": "stderr",
     "output_type": "stream",
     "text": [
      "/home/odemakinde/cd/lib/python3.6/site-packages/sklearn/utils/__init__.py:93: FutureWarning: Conversion of the second argument of issubdtype from `int` to `np.signedinteger` is deprecated. In future, it will be treated as `np.int64 == np.dtype(int).type`.\n",
      "  if np.issubdtype(mask.dtype, np.int):\n"
     ]
    },
    {
     "data": {
      "text/plain": [
       "Pipeline(memory=None,\n",
       "     steps=[('selector', SelectKBest(k=7, score_func=<function f_regression at 0x7f1411393e18>)), ('erf', ExtraTreesClassifier(bootstrap=False, class_weight=None, criterion='gini',\n",
       "           max_depth=4, max_features='auto', max_leaf_nodes=None,\n",
       "           min_impurity_decrease=0.0, min_impurity_split=N...timators=30, n_jobs=1,\n",
       "           oob_score=False, random_state=None, verbose=0, warm_start=False))])"
      ]
     },
     "execution_count": 11,
     "metadata": {},
     "output_type": "execute_result"
    }
   ],
   "source": [
    "# set the parameters\n",
    "process_pipeline.set_params(selector__k = 7, erf__n_estimators = 30)\n",
    "process_pipeline.fit(x,y)"
   ]
  },
  {
   "cell_type": "code",
   "execution_count": 14,
   "metadata": {},
   "outputs": [
    {
     "name": "stdout",
     "output_type": "stream",
     "text": [
      "predicted output:  [0 2 2 0 2 0 2 1 0 1 1 2 1 0 2 2 1 0 0 1 0 2 1 0 2 2 0 0 1 1 1 2 2 0 2 2 1\n",
      " 1 2 2 2 0 1 0 2 1 1 2 1 0 1 2 2 1 2 0 2 2 0 2 2 0 1 0 2 1 1 1 1 2 0 1 0 2\n",
      " 0 0 1 0 2 0 0 1 2 2 0 0 0 0 2 2 2 1 2 0 2 0 2 2 0 0 1 1 1 1 2 2 0 2 0 1 1\n",
      " 0 2 1 1 0 1 1 1 1 0 0 0 1 2 0 0 0 2 1 2 0 0 1 0 1 1 0 1 1 1 1 2 0 0 1 2 0\n",
      " 2 2]\n",
      "score:  0.9133333333333333\n"
     ]
    },
    {
     "name": "stderr",
     "output_type": "stream",
     "text": [
      "/home/odemakinde/cd/lib/python3.6/site-packages/sklearn/utils/__init__.py:93: FutureWarning: Conversion of the second argument of issubdtype from `int` to `np.signedinteger` is deprecated. In future, it will be treated as `np.int64 == np.dtype(int).type`.\n",
      "  if np.issubdtype(mask.dtype, np.int):\n"
     ]
    }
   ],
   "source": [
    "# predict outputs for the input data\n",
    "output = process_pipeline.predict(x)\n",
    "print('predicted output: ', output)\n",
    "\n",
    "# print scores\n",
    "print('score: ', process_pipeline.score(x, y))"
   ]
  },
  {
   "cell_type": "code",
   "execution_count": 15,
   "metadata": {},
   "outputs": [
    {
     "data": {
      "text/plain": [
       "((150, 25), (150,))"
      ]
     },
     "execution_count": 15,
     "metadata": {},
     "output_type": "execute_result"
    }
   ],
   "source": [
    "x.shape, y.shape"
   ]
  },
  {
   "cell_type": "code",
   "execution_count": 22,
   "metadata": {},
   "outputs": [
    {
     "data": {
      "image/png": "[encoded data removed]",
      "text/plain": [
       "<matplotlib.figure.Figure at 0x7f1401ef22b0>"
      ]
     },
     "metadata": {},
     "output_type": "display_data"
    }
   ],
   "source": [
    "# Extracting the Nearest Neighbor\n",
    "import numpy as np\n",
    "import matplotlib.pyplot as plt\n",
    "from sklearn.neighbors import NearestNeighbors\n",
    "\n",
    "# input dta\n",
    "x = np.array([[2.1,1.3],[.3,3.2],[2.9,2.5],[2.7,5.4],[3.8,0.9],\n",
    "             [7.3,2.1],[4.2,6.5],[3.8,3.7],[2.5,4.1],[3.4,1.9],\n",
    "             [5.7,3.5],[6.1,4.3],[5.1,2.2],[6.2,1.1]])\n",
    "# Number of nearest neighbors\n",
    "k = 5\n",
    "\n",
    "# test datapoint\n",
    "test_datapoint = [4.3,2.7]\n",
    "\n",
    "# plot input data\n",
    "plt.figure()\n",
    "plt.title('input data')\n",
    "plt.scatter(x[:,0], x[:,1], marker = 'o', s = 75, color = 'black')\n",
    "plt.show()"
   ]
  },
  {
   "cell_type": "code",
   "execution_count": 24,
   "metadata": {
    "collapsed": true
   },
   "outputs": [],
   "source": [
    "# build k nearest neighbor model\n",
    "knn_model = NearestNeighbors(n_neighbors =k, algorithm = 'ball_tree').fit(x)\n",
    "distance, indices = knn_model.kneighbors(np.array(test_datapoint).reshape(1,-1))"
   ]
  },
  {
   "cell_type": "code",
   "execution_count": 25,
   "metadata": {},
   "outputs": [
    {
     "name": "stdout",
     "output_type": "stream",
     "text": [
      "k nearest neighbors: \n",
      "1 ==> [5.1 2.2]\n",
      "2 ==> [3.8 3.7]\n",
      "3 ==> [3.4 1.9]\n",
      "4 ==> [2.9 2.5]\n",
      "5 ==> [5.7 3.5]\n"
     ]
    }
   ],
   "source": [
    "# print the 'k' nearest neighbors\n",
    "print('k nearest neighbors: ')\n",
    "for rank, index in enumerate(indices[0][:k], start = 1):\n",
    "    print(str(rank) + \" ==>\", x[index])"
   ]
  },
  {
   "cell_type": "code",
   "execution_count": 27,
   "metadata": {},
   "outputs": [
    {
     "data": {
      "image/png": "[encoded data removed]",
      "text/plain": [
       "<matplotlib.figure.Figure at 0x7f1401c12eb8>"
      ]
     },
     "metadata": {},
     "output_type": "display_data"
    }
   ],
   "source": [
    "# visualizing the nearest neighbors\n",
    "\n",
    "plt.figure()\n",
    "plt.title(\"Nearest Neighbors\")\n",
    "plt.scatter(x[:,0], x[:,1], marker = 'o', s = 75, color = 'k')\n",
    "plt.scatter(x[indices][0][:][:,0], x[indices][0][:][:,1],\n",
    "                                    marker = 'o', s = 250, color = 'k',\n",
    "                                    facecolors ='none')\n",
    "plt.scatter(test_datapoint[0], test_datapoint[1], marker = 'x', s = 75,\n",
    "           color = 'k')\n",
    "plt.show()"
   ]
  },
  {
   "cell_type": "code",
   "execution_count": 28,
   "metadata": {
    "collapsed": true
   },
   "outputs": [],
   "source": [
    "# building a k nearest neighbor classfier\n",
    "\n",
    "import numpy as np\n",
    "import matplotlib.pyplot as plt\n",
    "import matplotlib.cm as cm\n",
    "from sklearn import neighbors, datasets"
   ]
  },
  {
   "cell_type": "code",
   "execution_count": null,
   "metadata": {
    "collapsed": true
   },
   "outputs": [],
   "source": []
  }
 ],
 "metadata": {
  "kernelspec": {
   "display_name": "Python 3",
   "language": "python",
   "name": "python3"
  },
  "language_info": {
   "codemirror_mode": {
    "name": "ipython",
    "version": 3
   },
   "file_extension": ".py",
   "mimetype": "text/x-python",
   "name": "python",
   "nbconvert_exporter": "python",
   "pygments_lexer": "ipython3",
   "version": "3.6.2"
  }
 },
 "nbformat": 4,
 "nbformat_minor": 2
}
