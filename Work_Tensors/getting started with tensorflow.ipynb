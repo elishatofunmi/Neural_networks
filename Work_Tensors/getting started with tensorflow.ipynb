{
 "cells": [
  {
   "cell_type": "code",
   "execution_count": 1,
   "metadata": {
    "collapsed": true
   },
   "outputs": [],
   "source": [
    "from __future__ import absolute_import\n",
    "from __future__ import division\n",
    "from __future__ import print_function\n",
    "\n",
    "import numpy as np\n",
    "import tensorflow as tf"
   ]
  },
  {
   "cell_type": "code",
   "execution_count": 2,
   "metadata": {},
   "outputs": [
    {
     "name": "stdout",
     "output_type": "stream",
     "text": [
      "Tensor(\"Const:0\", shape=(), dtype=float32)\n",
      "Tensor(\"Const_1:0\", shape=(), dtype=float32)\n",
      "Tensor(\"add:0\", shape=(), dtype=float32)\n"
     ]
    }
   ],
   "source": [
    "# build the computational graph tf.graph\n",
    "# run the computational graph tf.session\n",
    "\n",
    "# tf.operations - calculations that consumes and produces tensors\n",
    "# tf.tensors - the edges in the graph, values that flow through the graph\n",
    "\n",
    "\n",
    "a = tf.constant(3.0, dtype = tf.float32)\n",
    "b = tf.constant(4.0, dtype = tf.float32)\n",
    "\n",
    "total = a + b\n",
    "print(a)\n",
    "print(b)\n",
    "print(total)"
   ]
  },
  {
   "cell_type": "code",
   "execution_count": 3,
   "metadata": {
    "collapsed": true
   },
   "outputs": [],
   "source": [
    "# save the computational graph to a tensorboard summary file\n",
    "writer = tf.summary.FileWriter('.')\n",
    "writer.add_graph(tf.get_default_graph())"
   ]
  },
  {
   "cell_type": "code",
   "execution_count": 5,
   "metadata": {},
   "outputs": [
    {
     "name": "stdout",
     "output_type": "stream",
     "text": [
      "7.0\n"
     ]
    }
   ],
   "source": [
    "sess = tf.Session()\n",
    "print (sess.run(total))"
   ]
  },
  {
   "cell_type": "code",
   "execution_count": 6,
   "metadata": {},
   "outputs": [
    {
     "name": "stdout",
     "output_type": "stream",
     "text": [
      "{'ab': (3.0, 4.0), 'total': 7.0}\n"
     ]
    }
   ],
   "source": [
    "print(sess.run({'ab':(a,b), 'total': total}))"
   ]
  },
  {
   "cell_type": "code",
   "execution_count": 7,
   "metadata": {},
   "outputs": [
    {
     "name": "stdout",
     "output_type": "stream",
     "text": [
      "[ 0.31754375  0.90904057  0.87698412]\n",
      "[ 0.49251163  0.37676251  0.32501101]\n",
      "(array([ 1.39655161,  1.04024816,  1.95503247], dtype=float32), array([ 2.39655161,  2.04024816,  2.95503235], dtype=float32))\n"
     ]
    }
   ],
   "source": [
    "vec = tf.random_uniform(shape= (3,))\n",
    "out1 = vec + 1\n",
    "out2 = vec + 2\n",
    "print(sess.run(vec))\n",
    "print(sess.run(vec))\n",
    "print(sess.run((out1, out2)))"
   ]
  },
  {
   "cell_type": "code",
   "execution_count": 8,
   "metadata": {},
   "outputs": [
    {
     "name": "stdout",
     "output_type": "stream",
     "text": [
      "7.5\n",
      "[ 3.  7.]\n"
     ]
    }
   ],
   "source": [
    "# a graph can be parameterized to accept external inputs, known as placeholders\n",
    "# a placeholder is a promise to provide a value later, like a function argument\n",
    "\n",
    "x = tf.placeholder(tf.float32)\n",
    "y = tf.placeholder(tf.float32)\n",
    "z = x + y\n",
    "\n",
    "print(sess.run(z, feed_dict = {x:3, y:4.5}))\n",
    "print(sess.run(z, feed_dict = {x:[1,3], y:[2,4]}))"
   ]
  },
  {
   "cell_type": "code",
   "execution_count": 9,
   "metadata": {
    "collapsed": true
   },
   "outputs": [],
   "source": [
    "# the only difference between placeholders and other tf.Tensors is that placeholders\n",
    "# throw an error if no value is fed to them\n",
    "\n",
    "# placeholders work for simple experiments, but tf.data are the preferred method\n",
    "# of streaming data into a model\n",
    "\n",
    "my_data = [\n",
    "    [0,1],\n",
    "    [2,3],\n",
    "    [4,5],\n",
    "    [6,7],\n",
    "]\n",
    "slices = tf.data.Dataset.from_tensor_slices(my_data)\n",
    "next_item = slices.make_one_shot_iterator().get_next()"
   ]
  },
  {
   "cell_type": "code",
   "execution_count": 10,
   "metadata": {},
   "outputs": [
    {
     "name": "stdout",
     "output_type": "stream",
     "text": [
      "[0 1]\n",
      "[2 3]\n",
      "[4 5]\n",
      "[6 7]\n"
     ]
    }
   ],
   "source": [
    "while True:\n",
    "    try:\n",
    "        print(sess.run(next_item))\n",
    "    except tf.errors.OutOfRangeError:\n",
    "        break"
   ]
  },
  {
   "cell_type": "code",
   "execution_count": 15,
   "metadata": {},
   "outputs": [
    {
     "name": "stdout",
     "output_type": "stream",
     "text": [
      "[-1.05413342 -1.42547834  1.70376122]\n",
      "[-1.3831712   0.138587    0.60081166]\n",
      "[ 0.06026712  0.84539485 -1.63404822]\n",
      "[-0.39682257 -0.20598796  0.27671582]\n",
      "[ 0.69473881  0.97860539 -1.80610359]\n",
      "[-0.13793366 -0.00392134  0.91621238]\n",
      "[-0.25455409  1.75833642 -0.53085917]\n",
      "[-0.37180507  0.45843273 -1.55250537]\n",
      "[-1.82615149 -0.48195559  0.1630346 ]\n",
      "[-0.54157573  0.22197683  0.87383032]\n"
     ]
    }
   ],
   "source": [
    "r = tf.random_normal([10,3])\n",
    "dataset = tf.data.Dataset.from_tensor_slices(r)\n",
    "iterator = dataset.make_initializable_iterator()\n",
    "next_row = iterator.get_next()\n",
    "\n",
    "sess.run(iterator.initializer)\n",
    "while True:\n",
    "    try:\n",
    "        print(sess.run(next_row))\n",
    "    except tf.errors.OutOfRangeError:\n",
    "        break"
   ]
  },
  {
   "cell_type": "code",
   "execution_count": 16,
   "metadata": {},
   "outputs": [
    {
     "name": "stdout",
     "output_type": "stream",
     "text": [
      "[[ 0.2716502   0.97716582  1.07672477]\n",
      " [-0.05653711  1.48598814 -1.5080626 ]\n",
      " [ 0.46906993 -0.56370842  0.90755999]\n",
      " [-0.44586554  0.94789994 -1.47499228]\n",
      " [-0.93399984 -1.87921381  0.8691389 ]\n",
      " [ 0.90690857 -0.13226394  0.7703138 ]\n",
      " [ 0.46517599 -0.46254516  0.30981454]\n",
      " [-2.40581703  0.80254656  0.31266794]\n",
      " [-0.1715571   0.25611329 -0.4901334 ]\n",
      " [ 0.57785183 -0.22973686  0.50004947]]\n"
     ]
    }
   ],
   "source": [
    "print(sess.run(r))"
   ]
  },
  {
   "cell_type": "code",
   "execution_count": 18,
   "metadata": {},
   "outputs": [],
   "source": [
    "# creating layers\n",
    "\n",
    "x = tf.placeholder(tf.float32, shape = [None, 3])\n",
    "linear_model = tf.layers.Dense(units = 1)\n",
    "y = linear_model(x)"
   ]
  },
  {
   "cell_type": "code",
   "execution_count": 19,
   "metadata": {
    "collapsed": true
   },
   "outputs": [],
   "source": [
    "# intializing all variables in a tensorflow graph\n",
    "init = tf.global_variables_initializer()\n",
    "sess.run(init)"
   ]
  },
  {
   "cell_type": "code",
   "execution_count": 20,
   "metadata": {},
   "outputs": [
    {
     "name": "stdout",
     "output_type": "stream",
     "text": [
      "[[-3.86432433]\n",
      " [-6.7078805 ]]\n"
     ]
    }
   ],
   "source": [
    "# Executing layers\n",
    "print(sess.run(y, {x:[[1,2,3],[4,5,6]]}))"
   ]
  },
  {
   "cell_type": "code",
   "execution_count": 21,
   "metadata": {
    "collapsed": true
   },
   "outputs": [],
   "source": [
    "writer = tf.summary.FileWriter('.')\n",
    "writer.add_graph(tf.get_default_graph())"
   ]
  },
  {
   "cell_type": "code",
   "execution_count": 22,
   "metadata": {
    "collapsed": true
   },
   "outputs": [],
   "source": [
    "features = {\n",
    "    'sales' : [[5], [10], [8], [9]],\n",
    "    'department': ['sports', 'sports', 'gardening', 'gardening']}\n",
    "\n",
    "department_column = tf.feature_column.categorical_column_with_vocabulary_list(\n",
    "        'department', ['sports', 'gardening'])\n",
    "department_column = tf.feature_column.indicator_column(department_column)\n",
    "\n",
    "columns = [\n",
    "    tf.feature_column.numeric_column('sales'),\n",
    "    department_column\n",
    "]\n",
    "\n",
    "inputs = tf.feature_column.input_layer(features, columns)"
   ]
  },
  {
   "cell_type": "code",
   "execution_count": 23,
   "metadata": {},
   "outputs": [
    {
     "data": {
      "text/plain": [
       "(None, None)"
      ]
     },
     "execution_count": 23,
     "metadata": {},
     "output_type": "execute_result"
    }
   ],
   "source": [
    "var_init = tf.global_variables_initializer()\n",
    "table_init = tf.tables_initializer()\n",
    "sess = tf.Session()\n",
    "sess.run((var_init, table_init))"
   ]
  },
  {
   "cell_type": "code",
   "execution_count": 24,
   "metadata": {},
   "outputs": [
    {
     "name": "stdout",
     "output_type": "stream",
     "text": [
      "[[  1.   0.   5.]\n",
      " [  1.   0.  10.]\n",
      " [  0.   1.   8.]\n",
      " [  0.   1.   9.]]\n"
     ]
    }
   ],
   "source": [
    "print(sess.run(inputs))"
   ]
  },
  {
   "cell_type": "code",
   "execution_count": 25,
   "metadata": {
    "collapsed": true
   },
   "outputs": [],
   "source": [
    "# training a simple regression model\n",
    "x = tf.constant([[1], [2], [3], [4]], dtype=tf.float32)\n",
    "y_true = tf.constant([[0], [-1], [-2], [-3]], dtype=tf.float32)"
   ]
  },
  {
   "cell_type": "code",
   "execution_count": 26,
   "metadata": {
    "collapsed": true
   },
   "outputs": [],
   "source": [
    "# building a simple linear model with 1 output\n",
    "linear_model = tf.layers.Dense(units=1)\n",
    "\n",
    "y_pred = linear_model(x)"
   ]
  },
  {
   "cell_type": "code",
   "execution_count": 27,
   "metadata": {},
   "outputs": [
    {
     "name": "stdout",
     "output_type": "stream",
     "text": [
      "[[-0.77906322]\n",
      " [-1.55812645]\n",
      " [-2.33718967]\n",
      " [-3.1162529 ]]\n"
     ]
    }
   ],
   "source": [
    "sess = tf.Session()\n",
    "init = tf.global_variables_initializer()\n",
    "sess.run(init)\n",
    "\n",
    "print(sess.run(y_pred))"
   ]
  },
  {
   "cell_type": "code",
   "execution_count": 28,
   "metadata": {},
   "outputs": [
    {
     "name": "stdout",
     "output_type": "stream",
     "text": [
      "0.261414\n"
     ]
    }
   ],
   "source": [
    "# to optimize a model, you first need to define the loss, MSE, standard loss for regression problem\n",
    "\n",
    "loss = tf.losses.mean_squared_error(labels=y_true, predictions=y_pred)\n",
    "\n",
    "print(sess.run(loss))"
   ]
  },
  {
   "cell_type": "code",
   "execution_count": 29,
   "metadata": {
    "collapsed": true
   },
   "outputs": [],
   "source": [
    "optimizer = tf.train.GradientDescentOptimizer(0.01)\n",
    "train = optimizer.minimize(loss)"
   ]
  },
  {
   "cell_type": "code",
   "execution_count": 30,
   "metadata": {
    "scrolled": true
   },
   "outputs": [
    {
     "name": "stdout",
     "output_type": "stream",
     "text": [
      "0.261414\n",
      "0.227941\n",
      "0.204436\n",
      "0.18785\n",
      "0.176066\n",
      "0.167616\n",
      "0.161481\n",
      "0.156954\n",
      "0.153544\n",
      "0.150912\n",
      "0.14882\n",
      "0.147104\n",
      "0.145652\n",
      "0.144383\n",
      "0.143244\n",
      "0.142197\n",
      "0.141214\n",
      "0.140277\n",
      "0.139375\n",
      "0.138497\n",
      "0.137638\n",
      "0.136794\n",
      "0.135961\n",
      "0.135138\n",
      "0.134323\n",
      "0.133515\n",
      "0.132713\n",
      "0.131917\n",
      "0.131127\n",
      "0.130342\n",
      "0.129562\n",
      "0.128786\n",
      "0.128016\n",
      "0.12725\n",
      "0.126489\n",
      "0.125733\n",
      "0.124981\n",
      "0.124234\n",
      "0.123491\n",
      "0.122753\n",
      "0.122019\n",
      "0.121289\n",
      "0.120564\n",
      "0.119843\n",
      "0.119127\n",
      "0.118414\n",
      "0.117706\n",
      "0.117003\n",
      "0.116303\n",
      "0.115608\n",
      "0.114917\n",
      "0.11423\n",
      "0.113547\n",
      "0.112868\n",
      "0.112193\n",
      "0.111522\n",
      "0.110855\n",
      "0.110193\n",
      "0.109534\n",
      "0.108879\n",
      "0.108228\n",
      "0.107581\n",
      "0.106938\n",
      "0.106298\n",
      "0.105663\n",
      "0.105031\n",
      "0.104403\n",
      "0.103779\n",
      "0.103158\n",
      "0.102541\n",
      "0.101928\n",
      "0.101319\n",
      "0.100713\n",
      "0.100111\n",
      "0.0995125\n",
      "0.0989176\n",
      "0.0983262\n",
      "0.0977383\n",
      "0.0971539\n",
      "0.0965731\n",
      "0.0959957\n",
      "0.0954217\n",
      "0.0948512\n",
      "0.0942841\n",
      "0.0937204\n",
      "0.0931601\n",
      "0.0926031\n",
      "0.0920494\n",
      "0.091499\n",
      "0.090952\n",
      "0.0904082\n",
      "0.0898677\n",
      "0.0893304\n",
      "0.0887963\n",
      "0.0882654\n",
      "0.0877377\n",
      "0.0872131\n",
      "0.0866917\n",
      "0.0861733\n",
      "0.0856581\n"
     ]
    }
   ],
   "source": [
    "for i in range(100):\n",
    "  _, loss_value = sess.run((train, loss))\n",
    "  print(loss_value)"
   ]
  },
  {
   "cell_type": "code",
   "execution_count": null,
   "metadata": {
    "collapsed": true
   },
   "outputs": [],
   "source": []
  }
 ],
 "metadata": {
  "kernelspec": {
   "display_name": "Python 3",
   "language": "python",
   "name": "python3"
  },
  "language_info": {
   "codemirror_mode": {
    "name": "ipython",
    "version": 3
   },
   "file_extension": ".py",
   "mimetype": "text/x-python",
   "name": "python",
   "nbconvert_exporter": "python",
   "pygments_lexer": "ipython3",
   "version": "3.6.1"
  }
 },
 "nbformat": 4,
 "nbformat_minor": 2
}
